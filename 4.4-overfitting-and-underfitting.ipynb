{
 "cells": [
  {
   "cell_type": "code",
   "execution_count": 1,
   "metadata": {},
   "outputs": [
    {
     "data": {
      "text/plain": [
       "'2.2.4-tf'"
      ]
     },
     "execution_count": 1,
     "metadata": {},
     "output_type": "execute_result"
    }
   ],
   "source": [
    "from tensorflow import keras\n",
    "keras.__version__"
   ]
  },
  {
   "cell_type": "code",
   "execution_count": 2,
   "metadata": {},
   "outputs": [],
   "source": [
    "import tensorflow as tf   #tf 2.0 GPU error 해결법\n",
    "gpu_options = tf.compat.v1.GPUOptions(per_process_gpu_memory_fraction=0.333)\n",
    "\n",
    "sess = tf.compat.v1.Session(config=tf.compat.v1.ConfigProto(gpu_options=gpu_options))"
   ]
  },
  {
   "cell_type": "markdown",
   "metadata": {},
   "source": [
    "# 과대적합과 과소적합\n",
    "\n",
    "이 노트북은 [케라스 창시자에게 배우는 딥러닝](https://tensorflow.blog/케라스-창시자에게-배우는-딥러닝/) 책의 4장 4절의 코드 예제입니다. 책에는 더 많은 내용과 그림이 있습니다. 이 노트북에는 소스 코드에 관련된 설명만 포함합니다. 이 노트북의 설명은 케라스 버전 2.2.2에 맞추어져 있습니다. 케라스 최신 버전이 릴리스되면 노트북을 다시 테스트하기 때문에 설명과 코드의 결과가 조금 다를 수 있습니다.\n",
    "\n",
    "----\n",
    "\n",
    "이전 장에 있던 세 가지 예제인 영화 리뷰 예측, 토픽 분류, 주택 가격 회귀 모두 홀드아웃 데이터에서 모델의 성능이 몇 번의 에포크 후에 최고치에 다다랐다가 감소되기 시작했습니다. 즉, 모델이 금방 훈련 데이터에 과대적합되기 시작합니다. 과대적합은 모든 머신 러닝 문제에서 발생합니다. 머신 러닝을 마스터하려면 과대적합을 다루는 방법을 꼭 배워야 합니다.\n",
    "\n",
    "머신 러닝의 근본적인 이슈는 최적화와 일반화 사이의 줄다리기입니다. 최적화는 가능한 훈련 데이터에서 최고의 성능을 얻으려고 모델을 조정하는 과정입니다(머신 러닝의 학습). 반면 일반화는 훈련된 모델이 이전에 본 적 없는 데이터에서 얼마나 잘 수행되는지를 의미합니다. 물론 모델을 만드는 목적은 좋은 일반화 성능을 얻는 것입니다. 하지만 일반화 성능을 제어할 방법이 없습니다. 단지 훈련 데이터를 기반으로 모델을 조정할 수만 있습니다.\n",
    "\n",
    "훈련 초기에 최적화와 일반화는 상호 연관되어 있습니다. 훈련 데이터의 손실이 낮을수록 테스트 데이터의 손실이 낮습니다. 이런 상황이 발생할 때 모델이 과소적합되었다고 말합니다. 모델의 성능이 계속 발전될 여지가 있습니다. 즉, 네트워크가 훈련 데이터에 있는 관련 특성을 모두 학습하지 못했습니다. 하지만 훈련 데이터에 여러 번 반복 학습하고 나면 어느 시점부터 일반화 성능이 더이상 높아지지 않습니다. 검증 세트의 성능이 멈추고 감소되기 시작합니다. 즉, 모델이 과대적합되기 시작합니다. 이는 훈련 데이터에 특화된 패턴을 학습하기 시작했다는 의미입니다. 이 패턴은 새로운 데이터와 관련성이 적어 잘못된 판단을 하게 만듭니다.\n",
    "\n",
    "모델이 관련성이 없고 좋지 못한 패턴을 훈련 데이터에서 학습하지 못하도록 하려면 가장 좋은 방법은 더 많은 훈련 데이터를 모으는 것입니다. 더 많은 데이터에서 훈련된 모델은 자연히 일반화 성능이 더 뛰어 납니다. 데이터를 더 모으는 것이 불가능할 때 차선책은 모델이 수용할 수 있는 정보의 양을 조절하거나 저장할 수 있는 정보에 제약을 가하는 것입니다. 네트워크가 적은 수의 패턴만을 기억할 수 있다면 최적화 과정에서 가장 중요한 패턴에 집중하게 될 것입니다. 이런 패턴은 더 나은 일반화 성능을 제공할 수 있습니다.\n",
    "\n",
    "이런 식으로 과대적합을 피하는 처리 과정을 규제라고 합니다. 가장 널리 사용되는 규제 기법을 알아보고 이전 장에서 본 영화 리뷰 분류 모델에 실제로 적용해 성능을 향상시켜 보겠습니다."
   ]
  },
  {
   "cell_type": "markdown",
   "metadata": {},
   "source": [
    "노트: 이 노트북에서는 편의상 IMDB 테스트 세트를 검증 세트로 사용합니다.\n",
    "\n",
    "3장 5절에 있는 코드를 사용해 데이터를 준비합니다:"
   ]
  },
  {
   "cell_type": "code",
   "execution_count": 3,
   "metadata": {},
   "outputs": [],
   "source": [
    "from tensorflow.keras.datasets import imdb\n",
    "import numpy as np\n",
    "\n",
    "(train_data, train_labels), (test_data, test_labels) = imdb.load_data(num_words=10000)\n",
    "\n",
    "def vectorize_sequences(sequences, dimension=10000):\n",
    "    # 크기가 (len(sequences), dimension))이고 모든 원소가 0인 행렬을 만듭니다\n",
    "    results = np.zeros((len(sequences), dimension))\n",
    "    for i, sequence in enumerate(sequences):\n",
    "        results[i, sequence] = 1.  # results[i]에서 특정 인덱스의 위치를 1로 만듭니다\n",
    "    return results\n",
    "\n",
    "# 훈련 데이터를 벡터로 변환합니다\n",
    "x_train = vectorize_sequences(train_data)\n",
    "# 테스트 데이터를 벡터로 변환합니다\n",
    "x_test = vectorize_sequences(test_data)\n",
    "# 레이블을 벡터로 변환합니다\n",
    "y_train = np.asarray(train_labels).astype('float32')\n",
    "y_test = np.asarray(test_labels).astype('float32')"
   ]
  },
  {
   "cell_type": "markdown",
   "metadata": {},
   "source": [
    "# 과대적합\n",
    "\n",
    "## 네트워크 크기 축소\n",
    "\n",
    "과대적합을 막는 가장 단순한 방법은 모델의 크기, 즉 모델에 있는 학습 파라미터의 수를 줄이는 것입니다. 파라미터의 수는 층의 수와 각 층의 유닛 수에 의해 결정됩니다. 딥러닝에서 모델에 있는 학습 파라미터의 수를 종종 모델의 용량이라고 말합니다. 당연하게 파라미터가 많은 모델이 기억 용량이 더 많습니다. 훈련 샘플과 타깃 사이를 딕셔너리와 같은 1:1 매핑으로 완벽하게 학습할 수도 있습니다. 이런 매핑은 일반화 능력이 없습니다. 예를 들어 500,000개의 이진 파라미터가 있는 모델은 MNIST 훈련 세트의 숫자 이미지의 클래스를 쉽게 모두 학습할 수 있습니다. 50,000개의 숫자 이미지 하나마다 10개의 이진 파라미터만 있으면 됩니다. 하지만 이런 모델은 새로운 숫자 샘플을 분류하는 용도로는 쓸모가 없습니다. 항상 유념해야 할 것은 딥러닝 모델은 훈련 데이터에 잘 맞으려는 경향을 가진다는 점입니다. 하지만 진짜 문제는 최적화가 아니고 일반화입니다.\n",
    "\n",
    "다른 한편으로 네트워크가 기억 용량에 제한이 있다면 이런 매핑을 쉽게 학습하지 못할 것입니다. 따라서 손실을 최소화하기 위해 타깃에 대한 예측 성능을 가진 압축된 표현을 학습해야 합니다. 정확히 이런 표현이 우리의 관심 대상입니다. 동시에 기억해야할 것은 과소적합되지 않도록 충분한 파라미터를 가진 모델을 사용해야 한다는 점입니다. 모델의 기억 용량이 부족해서는 안 됩니다. 너무 많은 용량과 충분하지 않은 용량 사이의 절충점을 찾아야 합니다.\n",
    "\n",
    "안타깝지만 알맞은 층의 수나 각 층의 유닛 수를 결정할 수 있는 마법 같은 공식은 없습니다. 데이터에 알맞는 모델 크기를 찾으려면 각기 다른 구조를 (당연히 테스트 세트가 아니고 검증 세트에서) 평가해 보아야 합니다. 적절한 모델 크기를 찾는 일반적인 작업 흐름은 비교적 적은 수의 층과 파라미터로 시작합니다. 그다음 검증 손실이 감소되기 시작할 때까지 층이나 유닛의 수를 늘리는 것입니다.\n",
    "\n",
    "영화 리뷰 분류 모델에 적용해 보죠. 원래 네트워크는 다음과 같습니다:"
   ]
  },
  {
   "cell_type": "code",
   "execution_count": 4,
   "metadata": {},
   "outputs": [],
   "source": [
    "from tensorflow.keras import models, layers\n",
    "\n",
    "original_model = models.Sequential()\n",
    "original_model.add(layers.Dense(16, activation='relu', input_shape=(10000,)))\n",
    "original_model.add(layers.Dense(16, activation='relu'))\n",
    "original_model.add(layers.Dense(1, activation='sigmoid'))\n",
    "\n",
    "original_model.compile(optimizer='rmsprop',\n",
    "                       loss='binary_crossentropy',\n",
    "                       metrics=['acc'])"
   ]
  },
  {
   "cell_type": "markdown",
   "metadata": {},
   "source": [
    "더 작은 네트워크로 바꾸어 보죠:"
   ]
  },
  {
   "cell_type": "code",
   "execution_count": 5,
   "metadata": {},
   "outputs": [],
   "source": [
    "smaller_model = models.Sequential()\n",
    "smaller_model.add(layers.Dense(6, activation='relu', input_shape=(10000,)))\n",
    "smaller_model.add(layers.Dense(6, activation='relu'))\n",
    "smaller_model.add(layers.Dense(1, activation='sigmoid'))\n",
    "\n",
    "smaller_model.compile(optimizer='rmsprop',\n",
    "                      loss='binary_crossentropy',\n",
    "                      metrics=['acc'])"
   ]
  },
  {
   "cell_type": "markdown",
   "metadata": {},
   "source": [
    "원본 네트워크와 축소된 네트워크의 검증 손실을 비교해 보죠. 점으로 표현된 것이 작은 네트워크이고 덧셈 기호가 원래 네트워크 입니다(검증 손실이 작은 것이 좋은 모델입니다)."
   ]
  },
  {
   "cell_type": "code",
   "execution_count": 6,
   "metadata": {},
   "outputs": [
    {
     "name": "stdout",
     "output_type": "stream",
     "text": [
      "Train on 25000 samples, validate on 25000 samples\n",
      "Epoch 1/20\n",
      "25000/25000 [==============================] - 4s 178us/sample - loss: 0.4710 - acc: 0.8242 - val_loss: 0.3603 - val_acc: 0.8700\n",
      "Epoch 2/20\n",
      "25000/25000 [==============================] - 3s 136us/sample - loss: 0.2717 - acc: 0.9066 - val_loss: 0.2954 - val_acc: 0.8847\n",
      "Epoch 3/20\n",
      "25000/25000 [==============================] - 3s 136us/sample - loss: 0.2085 - acc: 0.9267 - val_loss: 0.3124 - val_acc: 0.8722\n",
      "Epoch 4/20\n",
      "25000/25000 [==============================] - 3s 135us/sample - loss: 0.1750 - acc: 0.9374 - val_loss: 0.2995 - val_acc: 0.8802\n",
      "Epoch 5/20\n",
      "25000/25000 [==============================] - 3s 135us/sample - loss: 0.1515 - acc: 0.9474 - val_loss: 0.3246 - val_acc: 0.8739\n",
      "Epoch 6/20\n",
      "25000/25000 [==============================] - 3s 134us/sample - loss: 0.1330 - acc: 0.9539 - val_loss: 0.3397 - val_acc: 0.8716\n",
      "Epoch 7/20\n",
      "25000/25000 [==============================] - 3s 136us/sample - loss: 0.1204 - acc: 0.9588 - val_loss: 0.3422 - val_acc: 0.8742\n",
      "Epoch 8/20\n",
      "25000/25000 [==============================] - 3s 135us/sample - loss: 0.1064 - acc: 0.9654 - val_loss: 0.3895 - val_acc: 0.8662\n",
      "Epoch 9/20\n",
      "25000/25000 [==============================] - 3s 134us/sample - loss: 0.0961 - acc: 0.9678 - val_loss: 0.3910 - val_acc: 0.8688\n",
      "Epoch 10/20\n",
      "25000/25000 [==============================] - 3s 135us/sample - loss: 0.0883 - acc: 0.9701 - val_loss: 0.4143 - val_acc: 0.8664\n",
      "Epoch 11/20\n",
      "25000/25000 [==============================] - 3s 135us/sample - loss: 0.0810 - acc: 0.9734 - val_loss: 0.4541 - val_acc: 0.8611\n",
      "Epoch 12/20\n",
      "25000/25000 [==============================] - 3s 136us/sample - loss: 0.0706 - acc: 0.9780 - val_loss: 0.4975 - val_acc: 0.8575\n",
      "Epoch 13/20\n",
      "25000/25000 [==============================] - 3s 136us/sample - loss: 0.0676 - acc: 0.9790 - val_loss: 0.4976 - val_acc: 0.8595\n",
      "Epoch 14/20\n",
      "25000/25000 [==============================] - 3s 137us/sample - loss: 0.0605 - acc: 0.9816 - val_loss: 0.5424 - val_acc: 0.8533\n",
      "Epoch 15/20\n",
      "25000/25000 [==============================] - 3s 135us/sample - loss: 0.0551 - acc: 0.9836 - val_loss: 0.5532 - val_acc: 0.8550\n",
      "Epoch 16/20\n",
      "25000/25000 [==============================] - 3s 135us/sample - loss: 0.0489 - acc: 0.9859 - val_loss: 0.5881 - val_acc: 0.8544\n",
      "Epoch 17/20\n",
      "25000/25000 [==============================] - 3s 135us/sample - loss: 0.0441 - acc: 0.9872 - val_loss: 0.6272 - val_acc: 0.8505\n",
      "Epoch 18/20\n",
      "25000/25000 [==============================] - 3s 135us/sample - loss: 0.0410 - acc: 0.9887 - val_loss: 0.6463 - val_acc: 0.8505\n",
      "Epoch 19/20\n",
      "25000/25000 [==============================] - 3s 134us/sample - loss: 0.0352 - acc: 0.9903 - val_loss: 0.6954 - val_acc: 0.8490\n",
      "Epoch 20/20\n",
      "25000/25000 [==============================] - 3s 135us/sample - loss: 0.0330 - acc: 0.9902 - val_loss: 0.7515 - val_acc: 0.8449\n"
     ]
    }
   ],
   "source": [
    "original_hist = original_model.fit(x_train, y_train,\n",
    "                                   epochs=20,\n",
    "                                   batch_size=512,\n",
    "                                   validation_data=(x_test, y_test))"
   ]
  },
  {
   "cell_type": "code",
   "execution_count": 7,
   "metadata": {},
   "outputs": [
    {
     "name": "stdout",
     "output_type": "stream",
     "text": [
      "Train on 25000 samples, validate on 25000 samples\n",
      "Epoch 1/20\n",
      "25000/25000 [==============================] - 4s 142us/sample - loss: 0.5722 - acc: 0.7232 - val_loss: 0.5139 - val_acc: 0.7536\n",
      "Epoch 2/20\n",
      "25000/25000 [==============================] - 3s 134us/sample - loss: 0.4229 - acc: 0.8801 - val_loss: 0.3937 - val_acc: 0.8833\n",
      "Epoch 3/20\n",
      "25000/25000 [==============================] - 3s 135us/sample - loss: 0.3091 - acc: 0.9146 - val_loss: 0.3285 - val_acc: 0.8804\n",
      "Epoch 4/20\n",
      "25000/25000 [==============================] - 3s 137us/sample - loss: 0.2374 - acc: 0.9304 - val_loss: 0.2919 - val_acc: 0.8894\n",
      "Epoch 5/20\n",
      "25000/25000 [==============================] - 3s 136us/sample - loss: 0.1946 - acc: 0.9402 - val_loss: 0.2832 - val_acc: 0.8880\n",
      "Epoch 6/20\n",
      "25000/25000 [==============================] - 3s 137us/sample - loss: 0.1684 - acc: 0.9463 - val_loss: 0.2887 - val_acc: 0.8845\n",
      "Epoch 7/20\n",
      "25000/25000 [==============================] - 3s 134us/sample - loss: 0.1479 - acc: 0.9544 - val_loss: 0.2989 - val_acc: 0.8822\n",
      "Epoch 8/20\n",
      "25000/25000 [==============================] - 3s 136us/sample - loss: 0.1328 - acc: 0.9595 - val_loss: 0.3066 - val_acc: 0.8805\n",
      "Epoch 9/20\n",
      "25000/25000 [==============================] - 3s 137us/sample - loss: 0.1192 - acc: 0.9633 - val_loss: 0.3196 - val_acc: 0.8782\n",
      "Epoch 10/20\n",
      "25000/25000 [==============================] - 3s 135us/sample - loss: 0.1075 - acc: 0.9683 - val_loss: 0.3342 - val_acc: 0.8760\n",
      "Epoch 11/20\n",
      "25000/25000 [==============================] - 3s 137us/sample - loss: 0.0970 - acc: 0.9727 - val_loss: 0.3477 - val_acc: 0.8740\n",
      "Epoch 12/20\n",
      "25000/25000 [==============================] - 3s 135us/sample - loss: 0.0874 - acc: 0.9746 - val_loss: 0.3799 - val_acc: 0.8674\n",
      "Epoch 13/20\n",
      "25000/25000 [==============================] - 3s 136us/sample - loss: 0.0794 - acc: 0.9785 - val_loss: 0.3886 - val_acc: 0.8682\n",
      "Epoch 14/20\n",
      "25000/25000 [==============================] - 3s 134us/sample - loss: 0.0708 - acc: 0.9807 - val_loss: 0.4000 - val_acc: 0.8674\n",
      "Epoch 15/20\n",
      "25000/25000 [==============================] - 3s 135us/sample - loss: 0.0642 - acc: 0.9833 - val_loss: 0.4172 - val_acc: 0.8656\n",
      "Epoch 16/20\n",
      "25000/25000 [==============================] - 3s 135us/sample - loss: 0.0576 - acc: 0.9856 - val_loss: 0.4371 - val_acc: 0.8639\n",
      "Epoch 17/20\n",
      "25000/25000 [==============================] - 3s 136us/sample - loss: 0.0523 - acc: 0.9872 - val_loss: 0.4611 - val_acc: 0.8624\n",
      "Epoch 18/20\n",
      "25000/25000 [==============================] - 3s 136us/sample - loss: 0.0463 - acc: 0.9900 - val_loss: 0.4850 - val_acc: 0.8596\n",
      "Epoch 19/20\n",
      "25000/25000 [==============================] - 3s 136us/sample - loss: 0.0411 - acc: 0.9911 - val_loss: 0.5026 - val_acc: 0.8590\n",
      "Epoch 20/20\n",
      "25000/25000 [==============================] - 3s 135us/sample - loss: 0.0367 - acc: 0.9930 - val_loss: 0.5256 - val_acc: 0.8586\n"
     ]
    }
   ],
   "source": [
    "smaller_model_hist = smaller_model.fit(x_train, y_train,\n",
    "                                       epochs=20,\n",
    "                                       batch_size=512,\n",
    "                                       validation_data=(x_test, y_test))"
   ]
  },
  {
   "cell_type": "code",
   "execution_count": 8,
   "metadata": {},
   "outputs": [],
   "source": [
    "epochs = range(1, 21)\n",
    "original_val_loss = original_hist.history['val_loss']\n",
    "smaller_model_val_loss = smaller_model_hist.history['val_loss']"
   ]
  },
  {
   "cell_type": "code",
   "execution_count": 9,
   "metadata": {},
   "outputs": [],
   "source": [
    "import matplotlib.pyplot as plt"
   ]
  },
  {
   "cell_type": "code",
   "execution_count": 10,
   "metadata": {
    "scrolled": true
   },
   "outputs": [
    {
     "data": {
      "image/png": "[encoded data removed]",
      "text/plain": [
       "<Figure size 432x288 with 1 Axes>"
      ]
     },
     "metadata": {
      "needs_background": "light"
     },
     "output_type": "display_data"
    }
   ],
   "source": [
    "# ‘b+’는 파란색 덧셈 기호을 의미합니다\n",
    "plt.plot(epochs, original_val_loss, 'b+', label='Original model')\n",
    "# ‘bo’는 파란색 점을 의미합니다\n",
    "plt.plot(epochs, smaller_model_val_loss, 'bo', label='Smaller model')\n",
    "plt.xlabel('Epochs')\n",
    "plt.ylabel('Validation loss')\n",
    "plt.legend()\n",
    "\n",
    "plt.show()"
   ]
  },
  {
   "cell_type": "markdown",
   "metadata": {},
   "source": [
    "여기서 볼 수 있듯이 작은 네트워크가 기본 네트워크보다 더 나중에 과대적합되기 시작했습니다(네 번째 에포크가 아니라 여섯 번째 에포크에서). 과대적합이 시작되었을 때 성능이 더 천천히 감소되었습니다.\n",
    "\n",
    "이번에는 문제에 필요한 것보다 훨씬 더 많은 용량을 가진 네트워크를 비교해 보겠습니다:"
   ]
  },
  {
   "cell_type": "code",
   "execution_count": 11,
   "metadata": {},
   "outputs": [],
   "source": [
    "bigger_model = models.Sequential()\n",
    "bigger_model.add(layers.Dense(1024, activation='relu', input_shape=(10000,)))\n",
    "bigger_model.add(layers.Dense(1024, activation='relu'))\n",
    "bigger_model.add(layers.Dense(1, activation='sigmoid'))\n",
    "\n",
    "bigger_model.compile(optimizer='rmsprop',\n",
    "                     loss='binary_crossentropy',\n",
    "                     metrics=['acc'])"
   ]
  },
  {
   "cell_type": "code",
   "execution_count": 12,
   "metadata": {},
   "outputs": [
    {
     "name": "stdout",
     "output_type": "stream",
     "text": [
      "Train on 25000 samples, validate on 25000 samples\n",
      "Epoch 1/20\n",
      "25000/25000 [==============================] - 4s 169us/sample - loss: 0.5735 - acc: 0.7837 - val_loss: 0.3293 - val_acc: 0.8598\n",
      "Epoch 2/20\n",
      "25000/25000 [==============================] - 4s 162us/sample - loss: 0.2292 - acc: 0.9095 - val_loss: 0.2744 - val_acc: 0.8900\n",
      "Epoch 3/20\n",
      "25000/25000 [==============================] - 4s 161us/sample - loss: 0.1314 - acc: 0.9512 - val_loss: 0.3301 - val_acc: 0.8864\n",
      "Epoch 4/20\n",
      "25000/25000 [==============================] - 4s 160us/sample - loss: 0.0408 - acc: 0.9873 - val_loss: 0.4675 - val_acc: 0.8826\n",
      "Epoch 5/20\n",
      "25000/25000 [==============================] - 4s 161us/sample - loss: 0.0861 - acc: 0.9872 - val_loss: 0.4793 - val_acc: 0.8838\n",
      "Epoch 6/20\n",
      "25000/25000 [==============================] - 4s 161us/sample - loss: 0.0010 - acc: 0.9998 - val_loss: 0.6974 - val_acc: 0.8836\n",
      "Epoch 7/20\n",
      "25000/25000 [==============================] - 4s 161us/sample - loss: 0.2049 - acc: 0.9854 - val_loss: 0.8422 - val_acc: 0.8429\n",
      "Epoch 8/20\n",
      "25000/25000 [==============================] - 4s 162us/sample - loss: 8.2249e-04 - acc: 0.9999 - val_loss: 0.7362 - val_acc: 0.8808\n",
      "Epoch 9/20\n",
      "25000/25000 [==============================] - 4s 163us/sample - loss: 4.1244e-05 - acc: 1.0000 - val_loss: 0.8756 - val_acc: 0.8792\n",
      "Epoch 10/20\n",
      "25000/25000 [==============================] - 4s 162us/sample - loss: 5.7118e-06 - acc: 1.0000 - val_loss: 0.9773 - val_acc: 0.8814\n",
      "Epoch 11/20\n",
      "25000/25000 [==============================] - 4s 163us/sample - loss: 9.1257e-07 - acc: 1.0000 - val_loss: 1.1046 - val_acc: 0.8822\n",
      "Epoch 12/20\n",
      "25000/25000 [==============================] - 4s 164us/sample - loss: 1.6302e-07 - acc: 1.0000 - val_loss: 1.2266 - val_acc: 0.8824\n",
      "Epoch 13/20\n",
      "25000/25000 [==============================] - 4s 162us/sample - loss: 3.9022e-08 - acc: 1.0000 - val_loss: 1.3300 - val_acc: 0.8826\n",
      "Epoch 14/20\n",
      "25000/25000 [==============================] - 4s 160us/sample - loss: 1.5681e-08 - acc: 1.0000 - val_loss: 1.3891 - val_acc: 0.8824\n",
      "Epoch 15/20\n",
      "25000/25000 [==============================] - 4s 162us/sample - loss: 9.4907e-09 - acc: 1.0000 - val_loss: 1.4181 - val_acc: 0.8826\n",
      "Epoch 16/20\n",
      "25000/25000 [==============================] - 4s 162us/sample - loss: 6.8068e-09 - acc: 1.0000 - val_loss: 1.4423 - val_acc: 0.8827\n",
      "Epoch 17/20\n",
      "25000/25000 [==============================] - 4s 161us/sample - loss: 5.3113e-09 - acc: 1.0000 - val_loss: 1.4620 - val_acc: 0.8824\n",
      "Epoch 18/20\n",
      "25000/25000 [==============================] - 4s 161us/sample - loss: 4.3549e-09 - acc: 1.0000 - val_loss: 1.4754 - val_acc: 0.8826\n",
      "Epoch 19/20\n",
      "25000/25000 [==============================] - 4s 160us/sample - loss: 3.6832e-09 - acc: 1.0000 - val_loss: 1.4870 - val_acc: 0.8827\n",
      "Epoch 20/20\n",
      "25000/25000 [==============================] - 4s 160us/sample - loss: 3.1937e-09 - acc: 1.0000 - val_loss: 1.4986 - val_acc: 0.8824\n"
     ]
    }
   ],
   "source": [
    "bigger_model_hist = bigger_model.fit(x_train, y_train,\n",
    "                                     epochs=20,\n",
    "                                     batch_size=512,\n",
    "                                     validation_data=(x_test, y_test))"
   ]
  },
  {
   "cell_type": "markdown",
   "metadata": {},
   "source": [
    "다음은 더 큰 네트워크가 기본 네트워크에 비해 얼마나 차이나는지를 보여줍니다. 점이 용량이 큰 네트워크의 검증 손실이고 덧셈 기호는 원본 네트워크의 검증 손실입니다."
   ]
  },
  {
   "cell_type": "code",
   "execution_count": 13,
   "metadata": {},
   "outputs": [
    {
     "data": {
      "image/png": "[encoded data removed]",
      "text/plain": [
       "<Figure size 432x288 with 1 Axes>"
      ]
     },
     "metadata": {
      "needs_background": "light"
     },
     "output_type": "display_data"
    }
   ],
   "source": [
    "bigger_model_val_loss = bigger_model_hist.history['val_loss']\n",
    "\n",
    "plt.plot(epochs, original_val_loss, 'b+', label='Original model')\n",
    "plt.plot(epochs, bigger_model_val_loss, 'bo', label='Bigger model')\n",
    "plt.xlabel('Epochs')\n",
    "plt.ylabel('Validation loss')\n",
    "plt.legend()\n",
    "\n",
    "plt.show()"
   ]
  },
  {
   "cell_type": "markdown",
   "metadata": {},
   "source": [
    "용량이 큰 네트워크는 첫 번째 에포크 이후 거의 바로 과대적합이 시작되어 갈수록 더 심해집니다. 검증 손실도 매우 불안정합니다.\n",
    "\n",
    "다음은 두 네트워크의 훈련 손실입니다:"
   ]
  },
  {
   "cell_type": "code",
   "execution_count": 14,
   "metadata": {},
   "outputs": [
    {
     "data": {
      "image/png": "[encoded data removed]",
      "text/plain": [
       "<Figure size 432x288 with 1 Axes>"
      ]
     },
     "metadata": {
      "needs_background": "light"
     },
     "output_type": "display_data"
    }
   ],
   "source": [
    "original_train_loss = original_hist.history['loss']\n",
    "bigger_model_train_loss = bigger_model_hist.history['loss']\n",
    "\n",
    "plt.plot(epochs, original_train_loss, 'b+', label='Original model')\n",
    "plt.plot(epochs, bigger_model_train_loss, 'bo', label='Bigger model')\n",
    "plt.xlabel('Epochs')\n",
    "plt.ylabel('Training loss')\n",
    "plt.legend()\n",
    "\n",
    "plt.show()"
   ]
  },
  {
   "cell_type": "markdown",
   "metadata": {},
   "source": [
    "여기서 볼 수 있듯이 용량이 큰 네트워크는 훈련 손실이 매우 빠르게 0에 가까워집니다. 용량이 많은 네트워크일수록 더 빠르게 훈련 데이터를 모델링할 수 있습니다(결국 훈련 손실이 낮아집니다). 하지만 더욱 과대적합에 민감해집니다(결국 훈련과 검증 손실 사이에 큰 차이가 발생합니다)."
   ]
  },
  {
   "cell_type": "markdown",
   "metadata": {},
   "source": [
    "## 가중치 규제 추가\n",
    "\n",
    "오캄의 면도날 이론을 알고 있을지 모르겠습니다. 어떤 것에 대한 두 가지의 설명이 있다면 더 적은 가정을 필요하는 간단한 설명이 옳을 것이라는 이론입니다. 이 개념은 신경망으로 학습되는 모델에도 적용됩니다. 어떤 훈련 데이터와 네트워크 구조가 주어졌을 때 데이터를 설명할 수 있는 가중치 값의 집합은 여러 개(여러 개의 모델)입니다. 간단한 모델이 복잡한 모델보다 덜 과대적합될 가능성이 높습니다.\n",
    "\n",
    "여기에서 간단한 모델은 파라미터 값 분포의 엔트로피가 작은 모델입니다(또는 앞 절에서 본 것처럼 적은 수의 파라미터를 가진 모델입니다). 그러므로 과대적합을 완화시키기 위한 일반적인 방법은 네트워크의 복잡도에 제한을 두어 가중치가 작은 값을 가지도록 강제하는 것입니다. 가중치 값의 분포가 더 균일하게 됩니다. 이를 가중치 규제라고 하고 네트워크의 손실 함수에 큰 가중치에 연관된 비용을 추가합니다. 두 가지 형태의 비용이 있습니다.\n",
    "\n",
    "* L1 규제 : 가중치의 절대값에 비례하는 비용이 추가됩니다(가중치의 L1 노름).\n",
    "* L2 규제 : 가중치의 제곱에 비례하는 비용이 추가됩니다(가중치의 L2 노름). L2 규제는 신경망에서 가중치 감쇠라고도 부릅니다. 다른 이름 때문에 혼돈하지 마세요. 가중치 감쇠는 수학적으로 L2 규제와 동일합니다.\n",
    "\n",
    "케라스에서 가중치 규제 인스턴스를 층의 키워드 매개변수로 전달하여 가중치 규제를 추가할 수 있습니다. 영화 리뷰 분류 네트워크에 L2 가중치 규제를 추가해 보죠:"
   ]
  },
  {
   "cell_type": "code",
   "execution_count": 15,
   "metadata": {},
   "outputs": [],
   "source": [
    "from tensorflow.keras import regularizers\n",
    "\n",
    "l2_model = models.Sequential()\n",
    "l2_model.add(layers.Dense(16, kernel_regularizer=regularizers.l2(0.001),\n",
    "                          activation='relu', input_shape=(10000,)))\n",
    "l2_model.add(layers.Dense(16, kernel_regularizer=regularizers.l2(0.001),\n",
    "                          activation='relu'))\n",
    "l2_model.add(layers.Dense(1, activation='sigmoid'))"
   ]
  },
  {
   "cell_type": "code",
   "execution_count": 16,
   "metadata": {},
   "outputs": [],
   "source": [
    "l2_model.compile(optimizer='rmsprop',\n",
    "                 loss='binary_crossentropy',\n",
    "                 metrics=['acc'])"
   ]
  },
  {
   "cell_type": "markdown",
   "metadata": {},
   "source": [
    "`l2(0.001)`는 가중치 행렬의 모든 원소를 제곱하고 `0.001`을 곱하여 네트워크의 전체 손실에 더해진다는 의미입니다. 이 페널티 항은 훈련할 때만 추가됩니다. 이 네트워크의 손실은 테스트보다 훈련할 때 더 높을 것입니다.\n",
    "\n",
    "L2 규제 페널티의 효과를 확인해 보죠:"
   ]
  },
  {
   "cell_type": "code",
   "execution_count": 17,
   "metadata": {},
   "outputs": [
    {
     "name": "stdout",
     "output_type": "stream",
     "text": [
      "Train on 25000 samples, validate on 25000 samples\n",
      "Epoch 1/20\n",
      "25000/25000 [==============================] - 4s 146us/sample - loss: 0.4722 - acc: 0.8258 - val_loss: 0.4186 - val_acc: 0.8396\n",
      "Epoch 2/20\n",
      "25000/25000 [==============================] - 3s 137us/sample - loss: 0.3067 - acc: 0.9064 - val_loss: 0.3413 - val_acc: 0.8827\n",
      "Epoch 3/20\n",
      "25000/25000 [==============================] - 3s 137us/sample - loss: 0.2671 - acc: 0.9194 - val_loss: 0.3454 - val_acc: 0.8811\n",
      "Epoch 4/20\n",
      "25000/25000 [==============================] - 3s 136us/sample - loss: 0.2458 - acc: 0.9304 - val_loss: 0.3383 - val_acc: 0.8848\n",
      "Epoch 5/20\n",
      "25000/25000 [==============================] - 3s 137us/sample - loss: 0.2392 - acc: 0.9316 - val_loss: 0.3632 - val_acc: 0.8769\n",
      "Epoch 6/20\n",
      "25000/25000 [==============================] - 3s 135us/sample - loss: 0.2257 - acc: 0.9380 - val_loss: 0.4167 - val_acc: 0.8599\n",
      "Epoch 7/20\n",
      "25000/25000 [==============================] - 3s 136us/sample - loss: 0.2213 - acc: 0.9393 - val_loss: 0.3883 - val_acc: 0.8716\n",
      "Epoch 8/20\n",
      "25000/25000 [==============================] - 3s 136us/sample - loss: 0.2185 - acc: 0.9387 - val_loss: 0.4056 - val_acc: 0.8650\n",
      "Epoch 9/20\n",
      "25000/25000 [==============================] - 3s 135us/sample - loss: 0.2140 - acc: 0.9429 - val_loss: 0.3742 - val_acc: 0.8760\n",
      "Epoch 10/20\n",
      "25000/25000 [==============================] - 3s 135us/sample - loss: 0.2109 - acc: 0.9444 - val_loss: 0.3928 - val_acc: 0.8720\n",
      "Epoch 11/20\n",
      "25000/25000 [==============================] - 3s 138us/sample - loss: 0.2085 - acc: 0.9446 - val_loss: 0.4177 - val_acc: 0.8661\n",
      "Epoch 12/20\n",
      "25000/25000 [==============================] - 3s 135us/sample - loss: 0.2032 - acc: 0.9456 - val_loss: 0.3924 - val_acc: 0.8726\n",
      "Epoch 13/20\n",
      "25000/25000 [==============================] - 3s 136us/sample - loss: 0.1989 - acc: 0.9483 - val_loss: 0.4042 - val_acc: 0.8705\n",
      "Epoch 14/20\n",
      "25000/25000 [==============================] - 3s 136us/sample - loss: 0.1987 - acc: 0.9474 - val_loss: 0.4101 - val_acc: 0.8706\n",
      "Epoch 15/20\n",
      "25000/25000 [==============================] - 3s 136us/sample - loss: 0.1984 - acc: 0.9482 - val_loss: 0.4387 - val_acc: 0.8635\n",
      "Epoch 16/20\n",
      "25000/25000 [==============================] - 3s 137us/sample - loss: 0.1919 - acc: 0.9506 - val_loss: 0.4252 - val_acc: 0.8667\n",
      "Epoch 17/20\n",
      "25000/25000 [==============================] - 3s 137us/sample - loss: 0.1917 - acc: 0.9498 - val_loss: 0.4745 - val_acc: 0.8556\n",
      "Epoch 18/20\n",
      "25000/25000 [==============================] - 3s 135us/sample - loss: 0.1895 - acc: 0.9512 - val_loss: 0.4222 - val_acc: 0.8684\n",
      "Epoch 19/20\n",
      "25000/25000 [==============================] - 3s 135us/sample - loss: 0.1932 - acc: 0.9498 - val_loss: 0.4201 - val_acc: 0.8687\n",
      "Epoch 20/20\n",
      "25000/25000 [==============================] - 3s 134us/sample - loss: 0.1849 - acc: 0.9529 - val_loss: 0.4349 - val_acc: 0.8659\n"
     ]
    }
   ],
   "source": [
    "l2_model_hist = l2_model.fit(x_train, y_train,\n",
    "                             epochs=20,\n",
    "                             batch_size=512,\n",
    "                             validation_data=(x_test, y_test))"
   ]
  },
  {
   "cell_type": "code",
   "execution_count": 18,
   "metadata": {},
   "outputs": [
    {
     "data": {
      "image/png": "[encoded data removed]",
      "text/plain": [
       "<Figure size 432x288 with 1 Axes>"
      ]
     },
     "metadata": {
      "needs_background": "light"
     },
     "output_type": "display_data"
    }
   ],
   "source": [
    "l2_model_val_loss = l2_model_hist.history['val_loss']\n",
    "\n",
    "plt.plot(epochs, original_val_loss, 'b+', label='Original model')\n",
    "plt.plot(epochs, l2_model_val_loss, 'bo', label='L2-regularized model')\n",
    "plt.xlabel('Epochs')\n",
    "plt.ylabel('Validation loss')\n",
    "plt.legend()\n",
    "\n",
    "plt.show()"
   ]
  },
  {
   "cell_type": "markdown",
   "metadata": {},
   "source": [
    "여기서 볼 수 있듯이 두 모델이 동일한 파라미터 수를 가지고 있더라도 L2 규제를 사용한 모델(점)이 기본 모델(덧셈 기호)보다 훨씬 더 과대적합에 잘 견디고 있습니다.\n",
    "\n",
    "케라스에서 L2 규제 대신에 다음과 같은 가중치 규제 중 하나를 사용할 수 있습니다:"
   ]
  },
  {
   "cell_type": "markdown",
   "metadata": {
    "collapsed": true
   },
   "source": [
    "```python\n",
    "from keras import regularizers\n",
    "\n",
    "# L1 규제\n",
    "regularizers.l1(0.001)\n",
    "\n",
    "# L1과 L2 규제 병행\n",
    "regularizers.l1_l2(l1=0.001, l2=0.001)\n",
    "```"
   ]
  },
  {
   "cell_type": "markdown",
   "metadata": {},
   "source": [
    "### l1(0.0001) 모델과 비교"
   ]
  },
  {
   "cell_type": "code",
   "execution_count": 19,
   "metadata": {},
   "outputs": [],
   "source": [
    "l1_model = models.Sequential()\n",
    "l1_model.add(layers.Dense(16, kernel_regularizer=regularizers.l1(0.0001),\n",
    "                          activation='relu', input_shape=(10000,)))\n",
    "l1_model.add(layers.Dense(16, kernel_regularizer=regularizers.l1(0.0001),\n",
    "                          activation='relu'))\n",
    "l1_model.add(layers.Dense(1, activation='sigmoid'))"
   ]
  },
  {
   "cell_type": "code",
   "execution_count": 20,
   "metadata": {},
   "outputs": [],
   "source": [
    "l1_model.compile(optimizer='rmsprop',\n",
    "                 loss='binary_crossentropy',\n",
    "                 metrics=['acc'])"
   ]
  },
  {
   "cell_type": "code",
   "execution_count": 21,
   "metadata": {},
   "outputs": [
    {
     "name": "stdout",
     "output_type": "stream",
     "text": [
      "Train on 25000 samples, validate on 25000 samples\n",
      "Epoch 1/20\n",
      "25000/25000 [==============================] - 4s 143us/sample - loss: 0.5898 - acc: 0.8079 - val_loss: 0.4554 - val_acc: 0.8701\n",
      "Epoch 2/20\n",
      "25000/25000 [==============================] - 3s 135us/sample - loss: 0.3908 - acc: 0.8892 - val_loss: 0.3763 - val_acc: 0.8854\n",
      "Epoch 3/20\n",
      "25000/25000 [==============================] - 3s 134us/sample - loss: 0.3370 - acc: 0.9021 - val_loss: 0.3543 - val_acc: 0.8883\n",
      "Epoch 4/20\n",
      "25000/25000 [==============================] - 3s 135us/sample - loss: 0.3122 - acc: 0.9096 - val_loss: 0.3510 - val_acc: 0.8874\n",
      "Epoch 5/20\n",
      "25000/25000 [==============================] - 3s 135us/sample - loss: 0.2966 - acc: 0.9163 - val_loss: 0.3553 - val_acc: 0.8861\n",
      "Epoch 6/20\n",
      "25000/25000 [==============================] - 3s 135us/sample - loss: 0.2856 - acc: 0.9199 - val_loss: 0.3536 - val_acc: 0.8857\n",
      "Epoch 7/20\n",
      "25000/25000 [==============================] - 3s 135us/sample - loss: 0.2799 - acc: 0.9225 - val_loss: 0.3652 - val_acc: 0.8830\n",
      "Epoch 8/20\n",
      "25000/25000 [==============================] - 3s 135us/sample - loss: 0.2746 - acc: 0.9241 - val_loss: 0.3764 - val_acc: 0.8771\n",
      "Epoch 9/20\n",
      "25000/25000 [==============================] - 3s 136us/sample - loss: 0.2695 - acc: 0.9268 - val_loss: 0.3628 - val_acc: 0.8849\n",
      "Epoch 10/20\n",
      "25000/25000 [==============================] - 3s 136us/sample - loss: 0.2610 - acc: 0.9316 - val_loss: 0.3670 - val_acc: 0.8838\n",
      "Epoch 11/20\n",
      "25000/25000 [==============================] - 3s 135us/sample - loss: 0.2577 - acc: 0.9331 - val_loss: 0.3722 - val_acc: 0.8826\n",
      "Epoch 12/20\n",
      "25000/25000 [==============================] - 3s 136us/sample - loss: 0.2519 - acc: 0.9358 - val_loss: 0.3803 - val_acc: 0.8796\n",
      "Epoch 13/20\n",
      "25000/25000 [==============================] - 3s 136us/sample - loss: 0.2475 - acc: 0.9368 - val_loss: 0.4000 - val_acc: 0.8741\n",
      "Epoch 14/20\n",
      "25000/25000 [==============================] - 3s 137us/sample - loss: 0.2452 - acc: 0.9386 - val_loss: 0.3944 - val_acc: 0.8770\n",
      "Epoch 15/20\n",
      "25000/25000 [==============================] - 3s 135us/sample - loss: 0.2385 - acc: 0.9420 - val_loss: 0.3904 - val_acc: 0.8789\n",
      "Epoch 16/20\n",
      "25000/25000 [==============================] - 3s 136us/sample - loss: 0.2362 - acc: 0.9419 - val_loss: 0.3993 - val_acc: 0.8765\n",
      "Epoch 17/20\n",
      "25000/25000 [==============================] - 3s 137us/sample - loss: 0.2323 - acc: 0.9439 - val_loss: 0.4008 - val_acc: 0.8765\n",
      "Epoch 18/20\n",
      "25000/25000 [==============================] - 3s 137us/sample - loss: 0.2257 - acc: 0.9469 - val_loss: 0.4119 - val_acc: 0.8730\n",
      "Epoch 19/20\n",
      "25000/25000 [==============================] - 3s 136us/sample - loss: 0.2223 - acc: 0.9488 - val_loss: 0.4112 - val_acc: 0.8734\n",
      "Epoch 20/20\n",
      "25000/25000 [==============================] - 3s 135us/sample - loss: 0.2203 - acc: 0.9500 - val_loss: 0.4129 - val_acc: 0.8745\n"
     ]
    }
   ],
   "source": [
    "l1_model_hist = l1_model.fit(x_train, y_train,\n",
    "                             epochs=20,\n",
    "                             batch_size=512,\n",
    "                             validation_data=(x_test, y_test))"
   ]
  },
  {
   "cell_type": "code",
   "execution_count": 22,
   "metadata": {},
   "outputs": [
    {
     "data": {
      "image/png": "[encoded data removed]",
      "text/plain": [
       "<Figure size 432x288 with 1 Axes>"
      ]
     },
     "metadata": {
      "needs_background": "light"
     },
     "output_type": "display_data"
    }
   ],
   "source": [
    "l1_model_val_loss = l1_model_hist.history['val_loss']\n",
    "\n",
    "plt.plot(epochs, original_val_loss, 'b+', label='Original model')\n",
    "plt.plot(epochs, l1_model_val_loss, 'bo', label='L1-regularized model')\n",
    "plt.xlabel('Epochs')\n",
    "plt.ylabel('Validation loss')\n",
    "plt.legend()\n",
    "\n",
    "plt.show()"
   ]
  },
  {
   "cell_type": "markdown",
   "metadata": {},
   "source": [
    "### l1_l2(l1=0.0001, l2=0.0001)모델과 비교"
   ]
  },
  {
   "cell_type": "code",
   "execution_count": 23,
   "metadata": {},
   "outputs": [],
   "source": [
    "l1l2_model = models.Sequential()\n",
    "l1l2_model.add(layers.Dense(16, kernel_regularizer=regularizers.l1_l2(l1=0.0001, l2=0.0001),\n",
    "                            activation='relu', input_shape=(10000,)))\n",
    "l1l2_model.add(layers.Dense(16, kernel_regularizer=regularizers.l1_l2(l1=0.0001, l2=0.0001),\n",
    "                            activation='relu'))\n",
    "l1l2_model.add(layers.Dense(1, activation='sigmoid'))"
   ]
  },
  {
   "cell_type": "code",
   "execution_count": 24,
   "metadata": {},
   "outputs": [],
   "source": [
    "l1l2_model.compile(optimizer='rmsprop',\n",
    "                   loss='binary_crossentropy',\n",
    "                   metrics=['acc'])"
   ]
  },
  {
   "cell_type": "code",
   "execution_count": 25,
   "metadata": {},
   "outputs": [
    {
     "name": "stdout",
     "output_type": "stream",
     "text": [
      "Train on 25000 samples, validate on 25000 samples\n",
      "Epoch 1/20\n",
      "25000/25000 [==============================] - 4s 147us/sample - loss: 0.5499 - acc: 0.8283 - val_loss: 0.4194 - val_acc: 0.8827\n",
      "Epoch 2/20\n",
      "25000/25000 [==============================] - 3s 135us/sample - loss: 0.3726 - acc: 0.8952 - val_loss: 0.3709 - val_acc: 0.8883\n",
      "Epoch 3/20\n",
      "25000/25000 [==============================] - 3s 136us/sample - loss: 0.3358 - acc: 0.9050 - val_loss: 0.3638 - val_acc: 0.8874\n",
      "Epoch 4/20\n",
      "25000/25000 [==============================] - 3s 135us/sample - loss: 0.3206 - acc: 0.9091 - val_loss: 0.3597 - val_acc: 0.8885\n",
      "Epoch 5/20\n",
      "25000/25000 [==============================] - 3s 136us/sample - loss: 0.3110 - acc: 0.9144 - val_loss: 0.3666 - val_acc: 0.8860\n",
      "Epoch 6/20\n",
      "25000/25000 [==============================] - 3s 135us/sample - loss: 0.3020 - acc: 0.9175 - val_loss: 0.3695 - val_acc: 0.8851\n",
      "Epoch 7/20\n",
      "25000/25000 [==============================] - 3s 135us/sample - loss: 0.2987 - acc: 0.9196 - val_loss: 0.3694 - val_acc: 0.8850\n",
      "Epoch 8/20\n",
      "25000/25000 [==============================] - 3s 135us/sample - loss: 0.2939 - acc: 0.9216 - val_loss: 0.3814 - val_acc: 0.8820\n",
      "Epoch 9/20\n",
      "25000/25000 [==============================] - 3s 136us/sample - loss: 0.2851 - acc: 0.9252 - val_loss: 0.3782 - val_acc: 0.8808\n",
      "Epoch 10/20\n",
      "25000/25000 [==============================] - 3s 135us/sample - loss: 0.2837 - acc: 0.9247 - val_loss: 0.4000 - val_acc: 0.8732\n",
      "Epoch 11/20\n",
      "25000/25000 [==============================] - 3s 136us/sample - loss: 0.2787 - acc: 0.9265 - val_loss: 0.3824 - val_acc: 0.8792\n",
      "Epoch 12/20\n",
      "25000/25000 [==============================] - 3s 137us/sample - loss: 0.2704 - acc: 0.9312 - val_loss: 0.3849 - val_acc: 0.8799\n",
      "Epoch 13/20\n",
      "25000/25000 [==============================] - 3s 136us/sample - loss: 0.2680 - acc: 0.9320 - val_loss: 0.3809 - val_acc: 0.8823\n",
      "Epoch 14/20\n",
      "25000/25000 [==============================] - 3s 136us/sample - loss: 0.2593 - acc: 0.9349 - val_loss: 0.3812 - val_acc: 0.8813\n",
      "Epoch 15/20\n",
      "25000/25000 [==============================] - 3s 137us/sample - loss: 0.2570 - acc: 0.9329 - val_loss: 0.3872 - val_acc: 0.8780\n",
      "Epoch 16/20\n",
      "25000/25000 [==============================] - 3s 136us/sample - loss: 0.2508 - acc: 0.9380 - val_loss: 0.4070 - val_acc: 0.8740\n",
      "Epoch 17/20\n",
      "25000/25000 [==============================] - 3s 137us/sample - loss: 0.2465 - acc: 0.9395 - val_loss: 0.3923 - val_acc: 0.8757\n",
      "Epoch 18/20\n",
      "25000/25000 [==============================] - 3s 136us/sample - loss: 0.2405 - acc: 0.9421 - val_loss: 0.3983 - val_acc: 0.8772\n",
      "Epoch 19/20\n",
      "25000/25000 [==============================] - 3s 136us/sample - loss: 0.2322 - acc: 0.9465 - val_loss: 0.4086 - val_acc: 0.8737\n",
      "Epoch 20/20\n",
      "25000/25000 [==============================] - 3s 136us/sample - loss: 0.2332 - acc: 0.9446 - val_loss: 0.3981 - val_acc: 0.8767\n"
     ]
    }
   ],
   "source": [
    "l1l2_model_hist = l1l2_model.fit(x_train, y_train,\n",
    "                                 epochs=20,\n",
    "                                 batch_size=512,\n",
    "                                 validation_data=(x_test, y_test))"
   ]
  },
  {
   "cell_type": "code",
   "execution_count": 26,
   "metadata": {},
   "outputs": [
    {
     "data": {
      "image/png": "[encoded data removed]",
      "text/plain": [
       "<Figure size 432x288 with 1 Axes>"
      ]
     },
     "metadata": {
      "needs_background": "light"
     },
     "output_type": "display_data"
    }
   ],
   "source": [
    "l1l2_model_val_loss = l1l2_model_hist.history['val_loss']\n",
    "\n",
    "plt.plot(epochs, original_val_loss, 'b+', label='Original model')\n",
    "plt.plot(epochs, l1l2_model_val_loss, 'bo', label='L1,L2-regularized model')\n",
    "plt.xlabel('Epochs')\n",
    "plt.ylabel('Validation loss')\n",
    "plt.legend()\n",
    "\n",
    "plt.show()"
   ]
  },
  {
   "cell_type": "markdown",
   "metadata": {},
   "source": [
    "## 드롭아웃 추가\n",
    "\n",
    "드롭아웃은 토론토 대학의 제프리 힌튼과 그의 학생들이 개발했습니다. 신경망을 위해 사용되는 규제 기법 중에서 가장 효과적이고 널리 사용되는 방법 중에 하나입니다. 네트워크의 층에 드롭아웃을 적용하면 훈련하는 동안 무작위로 층의 일부 출력 특성을 제외시킵니다(0으로 만듭니다). 한 층이 정상적으로 훈련하는 동안에는 어떤 입력 샘플에 대해 `[0.2, 0.5, 1.3, 0.8, 1.1]` 벡터를 출력한다고 가정합시다. 드롭아웃을 적용하면 이 벡터의 일부가 무작위로 0으로 바뀝니다. 예를 들면 `[0, 0.5, 1.3, 0, 1.1]`이 됩니다. 드롭아웃 비율은 0이 될 특성의 비율입니다. 보통 0.2에서 0.5 사이로 지정됩니다. 테스트 단계에서는 어떤 유닛도 드롭아웃되지 않습니다. 대신에 층의 출력을 드롭아웃 비율에 비례하여 줄여 줍니다. 훈련할 때보다 더 많은 유닛이 활성화되기 때문입니다.\n",
    "\n",
    "크기가 `(batch_size, features)`인 한 층의 출력을 담고 있는 넘파이 행렬을 생각해 보겠습니다. 훈련할 때는 이 행렬의 값의 일부가 랜덤하게 0이 됩니다:"
   ]
  },
  {
   "cell_type": "markdown",
   "metadata": {
    "collapsed": true
   },
   "source": [
    "```python\n",
    "# 훈련할 때 유닛의 출력 중 50%를 버립니다\n",
    "layer_output *= np.random.randint(0, high=2, size=layer_output.shape)\n",
    "```"
   ]
  },
  {
   "cell_type": "markdown",
   "metadata": {},
   "source": [
    "테스트할 때는 드롭아웃 비율로 출력을 낮추어 주어야 합니다. 여기에서는 0.5배만큼 스케일을 조정했습니다(앞에서 절반의 유닛을 드롭아웃했으므로):"
   ]
  },
  {
   "cell_type": "markdown",
   "metadata": {
    "collapsed": true
   },
   "source": [
    "```python\n",
    "# 테스트 단계\n",
    "layer_output *= 0.5\n",
    "```"
   ]
  },
  {
   "cell_type": "markdown",
   "metadata": {},
   "source": [
    "훈련 단계에 이 두 연산을 포함시켜 테스트 단계에는 출력을 그대로 두도록 구현할 수 있습니다. 실제로 종종 이런 방식으로 구현합니다:"
   ]
  },
  {
   "cell_type": "markdown",
   "metadata": {
    "collapsed": true
   },
   "source": [
    "```python\n",
    "# 훈련 단계\n",
    "layer_output *= np.randint(0, high=2, size=layer_output.shape)\n",
    "# 여기에서 스케일을 낮추는 대신 높입니다![image.png](attachment:image.png)\n",
    "layer_output /= 0.5\n",
    "```"
   ]
  },
  {
   "cell_type": "markdown",
   "metadata": {},
   "source": [
    "이 기법이 이상하고 무계획적으로 보일 수 있습니다. 왜 드롭아웃이 과대적합을 줄이는 데 도움이 될까요? 힌튼은 은행에서 사용하는 부정 방지 메커니즘에서 착안했다고 합니다. 그의 말을 빌리면 “은행에 갔을 때 행원들이 계속 바뀌길래 왜 그런지를 물었습니다. 자신들도 이유는 모르지만 자주 업무가 바뀐다고 했습니다. 나는 은행에서 부정 행위를 하려면 직원들 사이의 유대가 필요하기 때문이라고 판단했습니다. 각 샘플에 대해 뉴런의 일부를 무작위하게 제거하면 뉴런의 부정한 협업을 방지하고 결국 과대적합을 감소시킨다는 것을 깨달았습니다.\"\n",
    "\n",
    "핵심 아이디어는 층의 출력 값에 노이즈를 추가하여 중요하지 않은 우연한 패턴(힌튼이 이야기한 부정한 협업)을 깨뜨리는 것입니다. 노이즈가 없다면 네트워크가 이 패턴을 기억하기 시작할 것입니다.\n",
    "\n",
    "케라스에서는 층의 출력 바로 뒤에 `Dropout` 층을 추가하여 네트워크에 드롭아웃을 적용할 수 있습니다:"
   ]
  },
  {
   "cell_type": "markdown",
   "metadata": {
    "collapsed": true
   },
   "source": [
    "```python\n",
    "model.add(layers.Dropout(0.5))\n",
    "```"
   ]
  },
  {
   "cell_type": "markdown",
   "metadata": {},
   "source": [
    "IMDB 네트워크에 두 개의 `Dropout` 층을 추가하고 과대적합을 얼마나 줄여주는지 확인해 보겠습니다:"
   ]
  },
  {
   "cell_type": "code",
   "execution_count": 27,
   "metadata": {},
   "outputs": [],
   "source": [
    "dpt_model = models.Sequential()\n",
    "dpt_model.add(layers.Dense(16, activation='relu', input_shape=(10000,)))\n",
    "dpt_model.add(layers.Dropout(0.5))\n",
    "dpt_model.add(layers.Dense(16, activation='relu'))\n",
    "dpt_model.add(layers.Dropout(0.5))\n",
    "dpt_model.add(layers.Dense(1, activation='sigmoid'))\n",
    "\n",
    "dpt_model.compile(optimizer='rmsprop',\n",
    "                  loss='binary_crossentropy',\n",
    "                  metrics=['acc'])"
   ]
  },
  {
   "cell_type": "code",
   "execution_count": 28,
   "metadata": {},
   "outputs": [
    {
     "name": "stdout",
     "output_type": "stream",
     "text": [
      "Train on 25000 samples, validate on 25000 samples\n",
      "Epoch 1/20\n",
      "25000/25000 [==============================] - 4s 148us/sample - loss: 0.5753 - acc: 0.7016 - val_loss: 0.4322 - val_acc: 0.8658\n",
      "Epoch 2/20\n",
      "25000/25000 [==============================] - 3s 136us/sample - loss: 0.4332 - acc: 0.8234 - val_loss: 0.3415 - val_acc: 0.8817\n",
      "Epoch 3/20\n",
      "25000/25000 [==============================] - 3s 136us/sample - loss: 0.3556 - acc: 0.8682 - val_loss: 0.2992 - val_acc: 0.8852\n",
      "Epoch 4/20\n",
      "25000/25000 [==============================] - 3s 136us/sample - loss: 0.3033 - acc: 0.8944 - val_loss: 0.2808 - val_acc: 0.8866\n",
      "Epoch 5/20\n",
      "25000/25000 [==============================] - 3s 138us/sample - loss: 0.2718 - acc: 0.9096 - val_loss: 0.2823 - val_acc: 0.8887\n",
      "Epoch 6/20\n",
      "25000/25000 [==============================] - 3s 137us/sample - loss: 0.2381 - acc: 0.9210 - val_loss: 0.2911 - val_acc: 0.8825\n",
      "Epoch 7/20\n",
      "25000/25000 [==============================] - 3s 135us/sample - loss: 0.2186 - acc: 0.9267 - val_loss: 0.3045 - val_acc: 0.8801\n",
      "Epoch 8/20\n",
      "25000/25000 [==============================] - 3s 136us/sample - loss: 0.1978 - acc: 0.9355 - val_loss: 0.3214 - val_acc: 0.8834\n",
      "Epoch 9/20\n",
      "25000/25000 [==============================] - 3s 137us/sample - loss: 0.1811 - acc: 0.9405 - val_loss: 0.3441 - val_acc: 0.8824\n",
      "Epoch 10/20\n",
      "25000/25000 [==============================] - 3s 138us/sample - loss: 0.1707 - acc: 0.9428 - val_loss: 0.3670 - val_acc: 0.8800\n",
      "Epoch 11/20\n",
      "25000/25000 [==============================] - 3s 137us/sample - loss: 0.1586 - acc: 0.9502 - val_loss: 0.3823 - val_acc: 0.8803\n",
      "Epoch 12/20\n",
      "25000/25000 [==============================] - 3s 137us/sample - loss: 0.1479 - acc: 0.9514 - val_loss: 0.4207 - val_acc: 0.8803\n",
      "Epoch 13/20\n",
      "25000/25000 [==============================] - 4s 143us/sample - loss: 0.1426 - acc: 0.9549 - val_loss: 0.4359 - val_acc: 0.8786\n",
      "Epoch 14/20\n",
      "25000/25000 [==============================] - 3s 139us/sample - loss: 0.1336 - acc: 0.9578 - val_loss: 0.4500 - val_acc: 0.8776\n",
      "Epoch 15/20\n",
      "25000/25000 [==============================] - 3s 137us/sample - loss: 0.1271 - acc: 0.9585 - val_loss: 0.4784 - val_acc: 0.8755\n",
      "Epoch 16/20\n",
      "25000/25000 [==============================] - 4s 146us/sample - loss: 0.1287 - acc: 0.9597 - val_loss: 0.5389 - val_acc: 0.8724\n",
      "Epoch 17/20\n",
      "25000/25000 [==============================] - 4s 142us/sample - loss: 0.1199 - acc: 0.9633 - val_loss: 0.5263 - val_acc: 0.8738\n",
      "Epoch 18/20\n",
      "25000/25000 [==============================] - 3s 137us/sample - loss: 0.1197 - acc: 0.9641 - val_loss: 0.5447 - val_acc: 0.8723\n",
      "Epoch 19/20\n",
      "25000/25000 [==============================] - 3s 137us/sample - loss: 0.1175 - acc: 0.9660 - val_loss: 0.5911 - val_acc: 0.8728\n",
      "Epoch 20/20\n",
      "25000/25000 [==============================] - 3s 137us/sample - loss: 0.1161 - acc: 0.9661 - val_loss: 0.5720 - val_acc: 0.8697\n"
     ]
    }
   ],
   "source": [
    "dpt_model_hist = dpt_model.fit(x_train, y_train,\n",
    "                               epochs=20,\n",
    "                               batch_size=512,\n",
    "                               validation_data=(x_test, y_test))"
   ]
  },
  {
   "cell_type": "markdown",
   "metadata": {},
   "source": [
    "결과 그래프를 그려 보죠:"
   ]
  },
  {
   "cell_type": "code",
   "execution_count": 29,
   "metadata": {},
   "outputs": [
    {
     "data": {
      "image/png": "[encoded data removed]",
      "text/plain": [
       "<Figure size 432x288 with 1 Axes>"
      ]
     },
     "metadata": {
      "needs_background": "light"
     },
     "output_type": "display_data"
    }
   ],
   "source": [
    "dpt_model_val_loss = dpt_model_hist.history['val_loss']\n",
    "\n",
    "plt.plot(epochs, original_val_loss, 'b+', label='Original model')\n",
    "plt.plot(epochs, dpt_model_val_loss, 'bo', label='Dropout-regularized model')\n",
    "plt.xlabel('Epochs')\n",
    "plt.ylabel('Validation loss')\n",
    "plt.legend()\n",
    "\n",
    "plt.show()"
   ]
  },
  {
   "cell_type": "markdown",
   "metadata": {},
   "source": [
    "여기에서도 기본 네트워크보다 확실히 향상되었습니다.\n",
    "\n",
    "정리하면 신경망에서 과대적합을 방지하기 위해 가장 널리 사용하는 방법은 다음과 같습니다.\n",
    "\n",
    "* 훈련 데이터를 더 모읍니다.\n",
    "* 네트워크의 용량을 감소시킵니다.\n",
    "* 가중치 규제를 추가합니다.\n",
    "* 드롭아웃을 추가합니다"
   ]
  }
 ],
 "metadata": {
  "kernelspec": {
   "display_name": "Python 3",
   "language": "python",
   "name": "python3"
  },
  "language_info": {
   "codemirror_mode": {
    "name": "ipython",
    "version": 3
   },
   "file_extension": ".py",
   "mimetype": "text/x-python",
   "name": "python",
   "nbconvert_exporter": "python",
   "pygments_lexer": "ipython3",
   "version": "3.6.8"
  },
  "toc": {
   "base_numbering": 1,
   "nav_menu": {},
   "number_sections": false,
   "sideBar": true,
   "skip_h1_title": true,
   "title_cell": "Table of Contents",
   "title_sidebar": "Contents",
   "toc_cell": false,
   "toc_position": {},
   "toc_section_display": true,
   "toc_window_display": true
  },
  "varInspector": {
   "cols": {
    "lenName": 16,
    "lenType": 16,
    "lenVar": 40
   },
   "kernels_config": {
    "python": {
     "delete_cmd_postfix": "",
     "delete_cmd_prefix": "del ",
     "library": "var_list.py",
     "varRefreshCmd": "print(var_dic_list())"
    },
    "r": {
     "delete_cmd_postfix": ") ",
     "delete_cmd_prefix": "rm(",
     "library": "var_list.r",
     "varRefreshCmd": "cat(var_dic_list()) "
    }
   },
   "types_to_exclude": [
    "module",
    "function",
    "builtin_function_or_method",
    "instance",
    "_Feature"
   ],
   "window_display": false
  }
 },
 "nbformat": 4,
 "nbformat_minor": 2
}
