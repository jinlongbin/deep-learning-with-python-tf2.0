{
 "cells": [
  {
   "cell_type": "code",
   "execution_count": 1,
   "metadata": {},
   "outputs": [
    {
     "data": {
      "text/plain": [
       "'2.2.4-tf'"
      ]
     },
     "execution_count": 1,
     "metadata": {},
     "output_type": "execute_result"
    }
   ],
   "source": [
    "from tensorflow import keras\n",
    "keras.__version__"
   ]
  },
  {
   "cell_type": "code",
   "execution_count": 2,
   "metadata": {},
   "outputs": [],
   "source": [
    "import tensorflow as tf   #tf 2.0 GPU error 해결법\n",
    "gpu_options = tf.compat.v1.GPUOptions(per_process_gpu_memory_fraction=0.7)\n",
    "\n",
    "sess = tf.compat.v1.Session(config=tf.compat.v1.ConfigProto(gpu_options=gpu_options))"
   ]
  },
  {
   "cell_type": "markdown",
   "metadata": {},
   "source": [
    "# 적대적 생성 신경망 소개\n",
    "\n",
    "이 노트북은 [케라스 창시자에게 배우는 딥러닝](https://tensorflow.blog/deep-learning-with-python/) 책의 8장 5절의 코드 예제입니다. 책에는 더 많은 내용과 그림이 있습니다. 이 노트북에는 소스 코드에 관련된 설명만 포함합니다. 이 노트북의 설명은 케라스 버전 2.2.2에 맞추어져 있습니다. 케라스 최신 버전이 릴리스되면 노트북을 다시 테스트하기 때문에 설명과 코드의 결과가 조금 다를 수 있습니다.\n",
    "\n",
    "---\n",
    "[...]"
   ]
  },
  {
   "cell_type": "markdown",
   "metadata": {},
   "source": [
    "## GAN 구현 방법\n",
    "\n",
    "이 절에서는 케라스에서 가장 기본적인 형태의 GAN을 구현하는 방법을 설명하겠습니다. GAN은 수준 높은 기술이기 때문에 기술적인 내용을 깊이 설명하는 것은 이 책의 범위를 벗어납니다. 구체적인 구현은 심층 합성곱 GAN(DCGAN)입니다. 생성자와 판별자가 심층 컨브넷입니다. 특히 생성자에서 이미지 업샘플링을 위해 `Conv2DTranspose` 층을 사용합니다.\n",
    "\n",
    "CIFAR10 데이터셋의 이미지로 GAN을 훈련하겠습니다. 이 데이터셋은 32 × 32 크기의 RGB 이미지 50,000개로 이루어져 있고 10개의 클래스를 가집니다(클래스마다 5,000개의 이미지가 있습니다). 문제를 간단하게 만들기 위해 “frog” 클래스의 이미지만 사용하겠습니다.\n",
    "\n",
    "GAN 구조는 다음과 같습니다:\n",
    "\n",
    "1.\t`generator` 네트워크는 `(latent_dim,)` 크기의 벡터를 `(32, 32, 3)` 크기의 이미지로 매핑합니다.\n",
    "2.\t`discriminator` 네트워크는 (32, 32, 3) 크기의 이미지가 진짜일 확률을 추정하여 이진 값으로 매핑합니다.\n",
    "3.\t생성자와 판별자를 연결하는 `gan` 네트워크를 만듭니다. `gan(x) = discriminator(generator(x))` 입니다. 이 `gan` 네트워크는 잠재 공간의 벡터를 판별자의 평가로 매핑합니다. 판별자는 생성자가 잠재 공간의 벡터를 디코딩한 것이 얼마나 현실적인지를 평가합니다.\n",
    "4.\t“진짜\"/”가짜\" 레이블과 함께 진짜 이미지와 가짜 이미지 샘플을 사용해 판별자를 훈련합니다. 일반적인 이미지 분류 모델을 훈련하는 것과 동일합니다.\n",
    "5. 생성자를 훈련하려면 `gan` 모델의 손실에 대한 생성자 가중치의 그래디언트를 사용합니다. 이 말은 매 단계마다 생성자에 의해 디코딩된 이미지를 판별자가 “진짜\"로 분류하도록 만드는 방향으로 생성자의 가중치를 이동한다는 뜻입니다. 다른 말로하면 판별자를 속이도록 생성자를 훈련합니다."
   ]
  },
  {
   "cell_type": "markdown",
   "metadata": {},
   "source": [
    "## 훈련 방법\n",
    "\n",
    "GAN을 훈련하고 튜닝하는 과정은 어렵기로 유명합니다. 알아두어야 할 몇 가지 유용한 기법이 있습니다. 딥러닝의 대부분이 그렇듯이 이는 과학보다는 연금술에 가깝습니다. 이런 기법들은 이론에 바탕을 둔 지침이 아니고 경험을 통해 발견된 것입니다. 실제 일어난 현상을 직관적으로 이해하는 수준에서 검증되었습니다. 모든 문제에 반드시 적용해야 것은 아니지만 경험상 잘 작동한다고 알려져 있습니다.\n",
    "\n",
    "다음은 이 절에서 GAN 생성자와 판별자를 구현하는 데 사용할 몇 가지 기법입니다. 이 목록이 GAN에 관련된 전체 팁이 아닙니다. GAN 논문들에서 더 많은 방법을 볼 수 있습니다.\n",
    "\n",
    "* 생성자의 마지막 활성화로 다른 종류의 모델에서 널리 사용하는 `sigmoid` 대신 `tanh` 함수를 사용합니다. \n",
    "* 균등 분포가 아니고 정규 분포(가우시안 분포)를 사용하여 잠재 공간에서 포인트를 샘플링합니다.\n",
    "* 무작위성은 모델을 견고하게 만듭니다. GAN 훈련은 동적 평형을 만들기 때문에 여러 방식으로 갇힐 가능성이 높습니다. 훈련하는 동안 무작위성을 주입하면 이를 방지하는 데 도움이 됩니다. 무작위성은 두 가지 방법으로 주입합니다. 판별자에 드롭아웃을 사용하거나 판별자를 위해 레이블에 랜덤 노이즈를 추가합니다.\n",
    "* 희소한 그래디언트는 GAN 훈련을 방해할 수 있습니다. 딥러닝에서 희소는 종종 바람직한 현상이지만 GAN에서는 그렇지 않습니다. 그래디언트를 희소하게 만들 수 있는 것은 최대 풀링 연산과 ReLU 활성화 두 가지입니다. 최대 풀링 대신 스트라이드 합성곱을 사용해 다운샘플링을 하는 것이 좋습니다. 또 ReLU 활성화 대신 `LeakyReLU` 층을 사용하세요. ReLU와 비슷하지만 음수의 활성화 값을 조금 허용하기 때문에 희소가 조금 완화됩니다.\n",
    "* 생성자에서 픽셀 공간을 균일하게 다루지 못해 생성된 이미지에서 체스판 모양이 종종 나타납니다(그림 8-17 참조). 이를 해결하기 위해 생성자와 판별자에서 스트라이드 `Conv2DTranpose`나 `Conv2D`를 사용할 때 스트라이드 크기로 나누어질 수 있는 커널 크기를 사용합니다."
   ]
  },
  {
   "cell_type": "markdown",
   "metadata": {},
   "source": [
    "## 생성자\n",
    "\n",
    "먼저 벡터(훈련하는 동안 잠재 공간에서 무작위로 샘플링됩니다)를 후보 이미지로 변환하는 `generator` 모델을 만들어 보죠. GAN에서 발생하는 많은 문제 중 하나는 생성자가 노이즈 같은 이미지를 생성하는 데서 멈추는 것입니다. 판별자와 생성자 양쪽에 모두 드롭아웃을 사용하는 것이 해결 방법이 될 수 있습니다."
   ]
  },
  {
   "cell_type": "code",
   "execution_count": 3,
   "metadata": {},
   "outputs": [
    {
     "name": "stdout",
     "output_type": "stream",
     "text": [
      "Model: \"model\"\n",
      "_________________________________________________________________\n",
      "Layer (type)                 Output Shape              Param #   \n",
      "=================================================================\n",
      "input_1 (InputLayer)         [(None, 32)]              0         \n",
      "_________________________________________________________________\n",
      "dense (Dense)                (None, 32768)             1081344   \n",
      "_________________________________________________________________\n",
      "leaky_re_lu (LeakyReLU)      (None, 32768)             0         \n",
      "_________________________________________________________________\n",
      "reshape (Reshape)            (None, 16, 16, 128)       0         \n",
      "_________________________________________________________________\n",
      "conv2d (Conv2D)              (None, 16, 16, 256)       819456    \n",
      "_________________________________________________________________\n",
      "leaky_re_lu_1 (LeakyReLU)    (None, 16, 16, 256)       0         \n",
      "_________________________________________________________________\n",
      "conv2d_transpose (Conv2DTran (None, 32, 32, 256)       1048832   \n",
      "_________________________________________________________________\n",
      "leaky_re_lu_2 (LeakyReLU)    (None, 32, 32, 256)       0         \n",
      "_________________________________________________________________\n",
      "conv2d_1 (Conv2D)            (None, 32, 32, 256)       1638656   \n",
      "_________________________________________________________________\n",
      "leaky_re_lu_3 (LeakyReLU)    (None, 32, 32, 256)       0         \n",
      "_________________________________________________________________\n",
      "conv2d_2 (Conv2D)            (None, 32, 32, 256)       1638656   \n",
      "_________________________________________________________________\n",
      "leaky_re_lu_4 (LeakyReLU)    (None, 32, 32, 256)       0         \n",
      "_________________________________________________________________\n",
      "conv2d_3 (Conv2D)            (None, 32, 32, 3)         37635     \n",
      "=================================================================\n",
      "Total params: 6,264,579\n",
      "Trainable params: 6,264,579\n",
      "Non-trainable params: 0\n",
      "_________________________________________________________________\n"
     ]
    }
   ],
   "source": [
    "from tensorflow import keras\n",
    "from tensorflow.keras import layers\n",
    "import numpy as np\n",
    "\n",
    "latent_dim = 32\n",
    "height = 32\n",
    "width = 32\n",
    "channels = 3\n",
    "\n",
    "generator_input = keras.Input(shape=(latent_dim,))\n",
    "\n",
    "# 입력을 16 × 16 크기의 128개 채널을 가진 특성 맵으로 변환합니다\n",
    "x = layers.Dense(128 * 16 * 16)(generator_input)\n",
    "x = layers.LeakyReLU()(x)\n",
    "x = layers.Reshape((16, 16, 128))(x)\n",
    "\n",
    "# 합성곱 층을 추가합니다\n",
    "x = layers.Conv2D(256, 5, padding='same')(x)\n",
    "x = layers.LeakyReLU()(x)\n",
    "\n",
    "# 32 × 32 크기로 업샘플링합니다\n",
    "x = layers.Conv2DTranspose(256, 4, strides=2, padding='same')(x)\n",
    "x = layers.LeakyReLU()(x)\n",
    "\n",
    "# 합성곱 층을 더 추가합니다\n",
    "x = layers.Conv2D(256, 5, padding='same')(x)\n",
    "x = layers.LeakyReLU()(x)\n",
    "x = layers.Conv2D(256, 5, padding='same')(x)\n",
    "x = layers.LeakyReLU()(x)\n",
    "\n",
    "# 32 × 32 크기의 1개 채널을 가진 특성 맵을 생성합니다\n",
    "x = layers.Conv2D(channels, 7, activation='tanh', padding='same')(x)\n",
    "generator = keras.models.Model(generator_input, x)\n",
    "generator.summary()"
   ]
  },
  {
   "cell_type": "markdown",
   "metadata": {},
   "source": [
    "## 판별자\n",
    "\n",
    "다음은 후보 이미지(진짜 혹은 가짜)를 입력으로 받고 두 개의 클래스로 분류하는 `discriminator` 모델을 만들겠습니다. 이 클래스는 '생성된 이미지' 또는 '훈련 세트에서 온 진짜 이미지'입니다."
   ]
  },
  {
   "cell_type": "code",
   "execution_count": 4,
   "metadata": {},
   "outputs": [
    {
     "name": "stdout",
     "output_type": "stream",
     "text": [
      "Model: \"model_1\"\n",
      "_________________________________________________________________\n",
      "Layer (type)                 Output Shape              Param #   \n",
      "=================================================================\n",
      "input_2 (InputLayer)         [(None, 32, 32, 3)]       0         \n",
      "_________________________________________________________________\n",
      "conv2d_4 (Conv2D)            (None, 30, 30, 128)       3584      \n",
      "_________________________________________________________________\n",
      "leaky_re_lu_5 (LeakyReLU)    (None, 30, 30, 128)       0         \n",
      "_________________________________________________________________\n",
      "conv2d_5 (Conv2D)            (None, 14, 14, 128)       262272    \n",
      "_________________________________________________________________\n",
      "leaky_re_lu_6 (LeakyReLU)    (None, 14, 14, 128)       0         \n",
      "_________________________________________________________________\n",
      "conv2d_6 (Conv2D)            (None, 6, 6, 128)         262272    \n",
      "_________________________________________________________________\n",
      "leaky_re_lu_7 (LeakyReLU)    (None, 6, 6, 128)         0         \n",
      "_________________________________________________________________\n",
      "conv2d_7 (Conv2D)            (None, 2, 2, 128)         262272    \n",
      "_________________________________________________________________\n",
      "leaky_re_lu_8 (LeakyReLU)    (None, 2, 2, 128)         0         \n",
      "_________________________________________________________________\n",
      "flatten (Flatten)            (None, 512)               0         \n",
      "_________________________________________________________________\n",
      "dropout (Dropout)            (None, 512)               0         \n",
      "_________________________________________________________________\n",
      "dense_1 (Dense)              (None, 1)                 513       \n",
      "=================================================================\n",
      "Total params: 790,913\n",
      "Trainable params: 790,913\n",
      "Non-trainable params: 0\n",
      "_________________________________________________________________\n"
     ]
    }
   ],
   "source": [
    "discriminator_input = layers.Input(shape=(height, width, channels))\n",
    "x = layers.Conv2D(128, 3)(discriminator_input)\n",
    "x = layers.LeakyReLU()(x)\n",
    "x = layers.Conv2D(128, 4, strides=2)(x)\n",
    "x = layers.LeakyReLU()(x)\n",
    "x = layers.Conv2D(128, 4, strides=2)(x)\n",
    "x = layers.LeakyReLU()(x)\n",
    "x = layers.Conv2D(128, 4, strides=2)(x)\n",
    "x = layers.LeakyReLU()(x)\n",
    "x = layers.Flatten()(x)\n",
    "\n",
    "# 드롭아웃 층을 넣는 것이 아주 중요합니다!\n",
    "x = layers.Dropout(0.4)(x)\n",
    "\n",
    "# 분류 층\n",
    "x = layers.Dense(1, activation='sigmoid')(x)\n",
    "\n",
    "discriminator = keras.models.Model(discriminator_input, x)\n",
    "discriminator.summary()\n",
    "\n",
    "# 옵티마이저에서 (값을 지정하여) 그래디언트 클리핑을 사용합니다\n",
    "# 안정된 훈련을 위해서 학습률 감쇠를 사용합니다\n",
    "discriminator_optimizer = keras.optimizers.RMSprop(lr=0.0008, clipvalue=1.0, decay=1e-8)\n",
    "discriminator.compile(optimizer=discriminator_optimizer, loss='binary_crossentropy')"
   ]
  },
  {
   "cell_type": "markdown",
   "metadata": {},
   "source": [
    "## 적대적 네트워크\n",
    "\n",
    "마지막으로 생성자와 판별자를 연결하여 GAN을 설정합니다. 훈련할 때 생성자가 판별자를 속이는 능력이 커지도록 학습합니다. 이 모델은 잠재 공간의 포인트를 “진짜\" 또는 “가짜\"의 분류 결정으로 변환합니다. 훈련에 사용되는 타깃 레이블은 항상 '진짜 이미지'입니다. `gan`을 훈련하는 것은 `discriminator`가 가짜 이미지를 보았을 때 진짜라고 예측하도록 만들기 위해 `generator`의 가중치를 업데이트하는 것입니다. 훈련하는 동안 판별자를 동결(학습되지 않도록)하는 것이 아주 중요합니다. `gan`을 훈련할 때 가중치가 업데이트되지 않습니다. 판별자의 가중치가 훈련하는 동안 업데이트되면 판별자는 항상 “진짜\"를 예측하도록 훈련됩니다. 이것이 우리가 원하는 바는 아니죠!"
   ]
  },
  {
   "cell_type": "code",
   "execution_count": 5,
   "metadata": {},
   "outputs": [],
   "source": [
    "# 판별자의 가중치가 훈련되지 않도록 설정합니다(gan 모델에만 적용됩니다)\n",
    "discriminator.trainable = False\n",
    "\n",
    "gan_input = keras.Input(shape=(latent_dim,))\n",
    "gan_output = discriminator(generator(gan_input))\n",
    "gan = keras.models.Model(gan_input, gan_output)\n",
    "\n",
    "gan_optimizer = keras.optimizers.RMSprop(lr=0.0004, clipvalue=1.0, decay=1e-8)\n",
    "gan.compile(optimizer=gan_optimizer, loss='binary_crossentropy')"
   ]
  },
  {
   "cell_type": "markdown",
   "metadata": {},
   "source": [
    "## DCGAN 훈련 방법\n",
    "\n",
    "이제 훈련을 시작합니다.  훈련 반복의 내용을 요약 정리해 보겠습니다.\n",
    "\n",
    "```\n",
    "매 반복마다 다음을 수행합니다:\n",
    "\n",
    "    1.잠재 공간에서 무작위로 포인트를 뽑습니다(랜덤 노이즈).\n",
    "    2.이 랜덤 노이즈를 사용해 `generator`에서 이미지를 생성합니다.\n",
    "    3.생성된 이미지와 진짜 이미지를 섞습니다.\n",
    "    4.진짜와 가짜가 섞인 이미지와 이에 대응하는 타깃을 사용해 `discriminator`를 훈련합니다. 타깃은 “진짜\"(실제 이미지일 경우) 또는 “가짜\"(생성된 이미지일 경우)입니다.\n",
    "    5.잠재 공간에서 무작위로 새로운 포인트를 뽑습니다.\n",
    "    6.이 랜덤 벡터를 사용해 `gan`을 훈련합니다. 모든 타깃은 “진짜\"로 설정합니다. 판별자가 생성된 이미지를 모두 “진짜 이미지\"라고 예측하도록 생성자의 가중치를 업데이트합니다(`gan` 안에서 판별자는 동결되기 때문에 생성자만 업데이트합니다). 결국 생성자는 판별자를 속이도록 훈련합니다.\n",
    "```\n",
    "\n",
    "실제로 만들어 보죠:"
   ]
  },
  {
   "cell_type": "code",
   "execution_count": 6,
   "metadata": {},
   "outputs": [
    {
     "name": "stderr",
     "output_type": "stream",
     "text": [
      "WARNING: Logging before flag parsing goes to stderr.\n",
      "W0909 20:23:17.548740  2812 training.py:2131] Discrepancy between trainable weights and collected trainable weights, did you set `model.trainable` without calling `model.compile` after ?\n"
     ]
    },
    {
     "name": "stdout",
     "output_type": "stream",
     "text": [
      "스텝 0에서 판별자 손실: 0.6871439\n",
      "스텝 0에서 적대적 손실: 0.6825088\n",
      "스텝 100에서 판별자 손실: 0.704994\n",
      "스텝 100에서 적대적 손실: 1.1236165\n",
      "스텝 200에서 판별자 손실: 0.7040354\n",
      "스텝 200에서 적대적 손실: 1.0123698\n",
      "스텝 300에서 판별자 손실: 0.708951\n",
      "스텝 300에서 적대적 손실: 0.73583776\n",
      "스텝 400에서 판별자 손실: 0.6902399\n",
      "스텝 400에서 적대적 손실: 0.77638483\n",
      "스텝 500에서 판별자 손실: 0.69875926\n",
      "스텝 500에서 적대적 손실: 0.76717675\n",
      "스텝 600에서 판별자 손실: 0.68816614\n",
      "스텝 600에서 적대적 손실: 0.73917615\n",
      "스텝 700에서 판별자 손실: 0.7020786\n",
      "스텝 700에서 적대적 손실: 0.798782\n",
      "스텝 800에서 판별자 손실: 0.6798366\n",
      "스텝 800에서 적대적 손실: 0.77143955\n",
      "스텝 900에서 판별자 손실: 0.68219745\n",
      "스텝 900에서 적대적 손실: 0.75149524\n",
      "스텝 1000에서 판별자 손실: 0.7276211\n",
      "스텝 1000에서 적대적 손실: 0.75600547\n",
      "스텝 1100에서 판별자 손실: 0.744539\n",
      "스텝 1100에서 적대적 손실: 0.75591785\n",
      "스텝 1200에서 판별자 손실: 0.6866283\n",
      "스텝 1200에서 적대적 손실: 0.74288887\n",
      "스텝 1300에서 판별자 손실: 0.72783464\n",
      "스텝 1300에서 적대적 손실: 0.7644321\n",
      "스텝 1400에서 판별자 손실: 0.707219\n",
      "스텝 1400에서 적대적 손실: 0.7633605\n",
      "스텝 1500에서 판별자 손실: 0.6961679\n",
      "스텝 1500에서 적대적 손실: 0.7306483\n",
      "스텝 1600에서 판별자 손실: 0.7031401\n",
      "스텝 1600에서 적대적 손실: 0.72333086\n",
      "스텝 1700에서 판별자 손실: 0.6977581\n",
      "스텝 1700에서 적대적 손실: 0.75401914\n",
      "스텝 1800에서 판별자 손실: 0.6876565\n",
      "스텝 1800에서 적대적 손실: 0.7551946\n",
      "스텝 1900에서 판별자 손실: 0.7010269\n",
      "스텝 1900에서 적대적 손실: 0.7589909\n",
      "스텝 2000에서 판별자 손실: 0.69281226\n",
      "스텝 2000에서 적대적 손실: 0.7587136\n",
      "스텝 2100에서 판별자 손실: 0.6849954\n",
      "스텝 2100에서 적대적 손실: 0.7200801\n",
      "스텝 2200에서 판별자 손실: 0.70440316\n",
      "스텝 2200에서 적대적 손실: 0.75874054\n",
      "스텝 2300에서 판별자 손실: 0.738376\n",
      "스텝 2300에서 적대적 손실: 0.73396814\n",
      "스텝 2400에서 판별자 손실: 0.6953213\n",
      "스텝 2400에서 적대적 손실: 0.7561954\n",
      "스텝 2500에서 판별자 손실: 0.6909151\n",
      "스텝 2500에서 적대적 손실: 0.7323936\n",
      "스텝 2600에서 판별자 손실: 0.70172787\n",
      "스텝 2600에서 적대적 손실: 0.75418746\n",
      "스텝 2700에서 판별자 손실: 0.6938716\n",
      "스텝 2700에서 적대적 손실: 0.73141706\n",
      "스텝 2800에서 판별자 손실: 0.6961935\n",
      "스텝 2800에서 적대적 손실: 0.7379654\n",
      "스텝 2900에서 판별자 손실: 0.69127375\n",
      "스텝 2900에서 적대적 손실: 0.7302469\n",
      "스텝 3000에서 판별자 손실: 0.6943417\n",
      "스텝 3000에서 적대적 손실: 0.7990557\n",
      "스텝 3100에서 판별자 손실: 0.7140096\n",
      "스텝 3100에서 적대적 손실: 0.77238387\n",
      "스텝 3200에서 판별자 손실: 0.6875986\n",
      "스텝 3200에서 적대적 손실: 0.7878928\n",
      "스텝 3300에서 판별자 손실: 0.70775336\n",
      "스텝 3300에서 적대적 손실: 0.7409061\n",
      "스텝 3400에서 판별자 손실: 0.6982166\n",
      "스텝 3400에서 적대적 손실: 0.7105889\n",
      "스텝 3500에서 판별자 손실: 0.6762378\n",
      "스텝 3500에서 적대적 손실: 0.7298206\n",
      "스텝 3600에서 판별자 손실: 0.69964886\n",
      "스텝 3600에서 적대적 손실: 0.75912726\n",
      "스텝 3700에서 판별자 손실: 0.68505645\n",
      "스텝 3700에서 적대적 손실: 0.75039047\n",
      "스텝 3800에서 판별자 손실: 0.68745804\n",
      "스텝 3800에서 적대적 손실: 0.7547498\n",
      "스텝 3900에서 판별자 손실: 0.7004856\n",
      "스텝 3900에서 적대적 손실: 0.7486679\n",
      "스텝 4000에서 판별자 손실: 0.6978858\n",
      "스텝 4000에서 적대적 손실: 0.7776855\n",
      "스텝 4100에서 판별자 손실: 0.6931657\n",
      "스텝 4100에서 적대적 손실: 0.7666769\n",
      "스텝 4200에서 판별자 손실: 0.7114369\n",
      "스텝 4200에서 적대적 손실: 0.70470536\n",
      "스텝 4300에서 판별자 손실: 0.6963384\n",
      "스텝 4300에서 적대적 손실: 0.75837386\n",
      "스텝 4400에서 판별자 손실: 0.70823604\n",
      "스텝 4400에서 적대적 손실: 0.7945372\n",
      "스텝 4500에서 판별자 손실: 0.69137526\n",
      "스텝 4500에서 적대적 손실: 0.6984181\n",
      "스텝 4600에서 판별자 손실: 0.7036134\n",
      "스텝 4600에서 적대적 손실: 0.75466424\n",
      "스텝 4700에서 판별자 손실: 0.688993\n",
      "스텝 4700에서 적대적 손실: 0.74300414\n",
      "스텝 4800에서 판별자 손실: 0.68944836\n",
      "스텝 4800에서 적대적 손실: 0.7783894\n",
      "스텝 4900에서 판별자 손실: 0.807164\n",
      "스텝 4900에서 적대적 손실: 3.5456276\n",
      "스텝 5000에서 판별자 손실: 0.7011982\n",
      "스텝 5000에서 적대적 손실: 0.7496294\n",
      "스텝 5100에서 판별자 손실: 0.7027717\n",
      "스텝 5100에서 적대적 손실: 0.77389324\n",
      "스텝 5200에서 판별자 손실: 0.69415486\n",
      "스텝 5200에서 적대적 손실: 0.91299284\n",
      "스텝 5300에서 판별자 손실: 0.7329393\n",
      "스텝 5300에서 적대적 손실: 0.8085122\n",
      "스텝 5400에서 판별자 손실: 0.67896223\n",
      "스텝 5400에서 적대적 손실: 0.7781219\n",
      "스텝 5500에서 판별자 손실: 0.68635494\n",
      "스텝 5500에서 적대적 손실: 0.72266674\n",
      "스텝 5600에서 판별자 손실: 0.7042306\n",
      "스텝 5600에서 적대적 손실: 0.7572599\n",
      "스텝 5700에서 판별자 손실: 0.6972272\n",
      "스텝 5700에서 적대적 손실: 0.7853426\n",
      "스텝 5800에서 판별자 손실: 0.68595374\n",
      "스텝 5800에서 적대적 손실: 0.7415873\n",
      "스텝 5900에서 판별자 손실: 0.7016884\n",
      "스텝 5900에서 적대적 손실: 0.7248259\n",
      "스텝 6000에서 판별자 손실: 0.7854258\n",
      "스텝 6000에서 적대적 손실: 0.7851524\n",
      "스텝 6100에서 판별자 손실: 0.68435913\n",
      "스텝 6100에서 적대적 손실: 0.7955777\n",
      "스텝 6200에서 판별자 손실: 0.6991133\n",
      "스텝 6200에서 적대적 손실: 0.8046504\n",
      "스텝 6300에서 판별자 손실: 0.690683\n",
      "스텝 6300에서 적대적 손실: 0.7566699\n",
      "스텝 6400에서 판별자 손실: 0.6804159\n",
      "스텝 6400에서 적대적 손실: 0.725327\n",
      "스텝 6500에서 판별자 손실: 0.6714794\n",
      "스텝 6500에서 적대적 손실: 0.7812824\n",
      "스텝 6600에서 판별자 손실: 0.68573534\n",
      "스텝 6600에서 적대적 손실: 0.7627195\n",
      "스텝 6700에서 판별자 손실: 0.69571054\n",
      "스텝 6700에서 적대적 손실: 0.8931381\n",
      "스텝 6800에서 판별자 손실: 0.696531\n",
      "스텝 6800에서 적대적 손실: 0.8130749\n",
      "스텝 6900에서 판별자 손실: 0.72770184\n",
      "스텝 6900에서 적대적 손실: 0.814157\n",
      "스텝 7000에서 판별자 손실: 0.68577564\n",
      "스텝 7000에서 적대적 손실: 0.6875087\n",
      "스텝 7100에서 판별자 손실: 0.7211355\n",
      "스텝 7100에서 적대적 손실: 0.93092555\n",
      "스텝 7200에서 판별자 손실: 0.68780553\n",
      "스텝 7200에서 적대적 손실: 0.7977291\n",
      "스텝 7300에서 판별자 손실: 0.6795542\n",
      "스텝 7300에서 적대적 손실: 0.85636175\n",
      "스텝 7400에서 판별자 손실: 0.6922127\n",
      "스텝 7400에서 적대적 손실: 0.78625417\n",
      "스텝 7500에서 판별자 손실: 0.66258454\n",
      "스텝 7500에서 적대적 손실: 0.868673\n",
      "스텝 7600에서 판별자 손실: 0.6639806\n",
      "스텝 7600에서 적대적 손실: 0.79762733\n",
      "스텝 7700에서 판별자 손실: 0.67758864\n",
      "스텝 7700에서 적대적 손실: 0.803356\n",
      "스텝 7800에서 판별자 손실: 0.6880095\n",
      "스텝 7800에서 적대적 손실: 0.72829914\n",
      "스텝 7900에서 판별자 손실: 0.6847499\n",
      "스텝 7900에서 적대적 손실: 0.7866498\n",
      "스텝 8000에서 판별자 손실: 0.7150599\n",
      "스텝 8000에서 적대적 손실: 0.8510071\n",
      "스텝 8100에서 판별자 손실: 0.66139394\n",
      "스텝 8100에서 적대적 손실: 0.967518\n",
      "스텝 8200에서 판별자 손실: 0.72567654\n",
      "스텝 8200에서 적대적 손실: 1.288004\n",
      "스텝 8300에서 판별자 손실: 0.67963344\n",
      "스텝 8300에서 적대적 손실: 0.78121257\n",
      "스텝 8400에서 판별자 손실: 0.73024243\n",
      "스텝 8400에서 적대적 손실: 0.74200547\n",
      "스텝 8500에서 판별자 손실: 0.7576833\n",
      "스텝 8500에서 적대적 손실: 0.60887015\n",
      "스텝 8600에서 판별자 손실: 0.649614\n",
      "스텝 8600에서 적대적 손실: 0.72965777\n",
      "스텝 8700에서 판별자 손실: 0.6999938\n",
      "스텝 8700에서 적대적 손실: 0.76823497\n",
      "스텝 8800에서 판별자 손실: 0.6719693\n",
      "스텝 8800에서 적대적 손실: 0.7475076\n",
      "스텝 8900에서 판별자 손실: 0.6671772\n",
      "스텝 8900에서 적대적 손실: 0.74084425\n",
      "스텝 9000에서 판별자 손실: 0.7929433\n",
      "스텝 9000에서 적대적 손실: 1.237846\n",
      "스텝 9100에서 판별자 손실: 0.67515993\n",
      "스텝 9100에서 적대적 손실: 0.539255\n",
      "스텝 9200에서 판별자 손실: 0.6996956\n",
      "스텝 9200에서 적대적 손실: 0.90672886\n",
      "스텝 9300에서 판별자 손실: 0.7175254\n",
      "스텝 9300에서 적대적 손실: 0.76048774\n",
      "스텝 9400에서 판별자 손실: 0.6928414\n",
      "스텝 9400에서 적대적 손실: 0.79369867\n",
      "스텝 9500에서 판별자 손실: 0.6669165\n",
      "스텝 9500에서 적대적 손실: 0.75977767\n",
      "스텝 9600에서 판별자 손실: 0.68343127\n",
      "스텝 9600에서 적대적 손실: 0.6695303\n",
      "스텝 9700에서 판별자 손실: 0.7056425\n",
      "스텝 9700에서 적대적 손실: 0.86989576\n",
      "스텝 9800에서 판별자 손실: 0.66145164\n",
      "스텝 9800에서 적대적 손실: 0.81976956\n",
      "스텝 9900에서 판별자 손실: 0.6858355\n",
      "스텝 9900에서 적대적 손실: 0.81739205\n"
     ]
    }
   ],
   "source": [
    "import os\n",
    "from tensorflow.keras.preprocessing import image\n",
    "\n",
    "# CIFAR10 데이터를 로드합니다\n",
    "(x_train, y_train), (_, _) = keras.datasets.cifar10.load_data()\n",
    "\n",
    "# 개구리 이미지를 선택합니다(클래스 6)\n",
    "x_train = x_train[y_train.flatten() == 6]\n",
    "\n",
    "# 데이터를 정규화합니다\n",
    "x_train = x_train.reshape(\n",
    "    (x_train.shape[0],) + (height, width, channels)).astype('float32') / 255.\n",
    "\n",
    "iterations = 10000\n",
    "batch_size = 20\n",
    "save_dir = './datasets/gan_images/'\n",
    "if not os.path.exists(save_dir):\n",
    "    os.mkdir(save_dir)\n",
    "\n",
    "# 훈련 반복 시작\n",
    "start = 0\n",
    "for step in range(iterations):\n",
    "    # 잠재 공간에서 무작위로 포인트를 샘플링합니다\n",
    "    random_latent_vectors = np.random.normal(size=(batch_size, latent_dim))\n",
    "\n",
    "    # 가짜 이미지를 디코딩합니다\n",
    "    generated_images = generator.predict(random_latent_vectors)\n",
    "\n",
    "    # 진짜 이미지와 연결합니다\n",
    "    stop = start + batch_size\n",
    "    real_images = x_train[start: stop]\n",
    "    combined_images = np.concatenate([generated_images, real_images])\n",
    "\n",
    "    # 진짜와 가짜 이미지를 구분하여 레이블을 합칩니다\n",
    "    labels = np.concatenate([np.ones((batch_size, 1)),\n",
    "                             np.zeros((batch_size, 1))])\n",
    "    # 레이블에 랜덤 노이즈를 추가합니다. 아주 중요합니다!\n",
    "    labels += 0.05 * np.random.random(labels.shape)\n",
    "\n",
    "    # discriminator를 훈련합니다\n",
    "    d_loss = discriminator.train_on_batch(combined_images, labels)\n",
    "\n",
    "    # 잠재 공간에서 무작위로 포인트를 샘플링합니다\n",
    "    random_latent_vectors = np.random.normal(size=(batch_size, latent_dim))\n",
    "\n",
    "    # 모두 “진짜 이미지\"라고 레이블을 만듭니다\n",
    "    misleading_targets = np.zeros((batch_size, 1))\n",
    "\n",
    "    # generator를 훈련합니다(gan 모델에서 discriminator의 가중치는 동결됩니다)\n",
    "    a_loss = gan.train_on_batch(random_latent_vectors, misleading_targets)\n",
    "    \n",
    "    start += batch_size\n",
    "    if start > len(x_train) - batch_size:\n",
    "        start = 0\n",
    "\n",
    "    # 중간 중간 저장하고 그래프를 그립니다\n",
    "    if step % 100 == 0:\n",
    "        # 모델 가중치를 저장합니다\n",
    "        gan.save_weights('gan.h5')\n",
    "\n",
    "        # 측정 지표를 출력합니다\n",
    "        print('스텝 %s에서 판별자 손실: %s' % (step, d_loss))\n",
    "        print('스텝 %s에서 적대적 손실: %s' % (step, a_loss))\n",
    "\n",
    "        # 생성된 이미지 하나를 저장합니다\n",
    "        img = image.array_to_img(generated_images[0] * 255., scale=False)\n",
    "        img.save(os.path.join(save_dir, 'generated_frog' + str(step) + '.png'))\n",
    "\n",
    "        # 비교를 위해 진짜 이미지 하나를 저장합니다\n",
    "        img = image.array_to_img(real_images[0] * 255., scale=False)\n",
    "        img.save(os.path.join(save_dir, 'real_frog' + str(step) + '.png'))"
   ]
  },
  {
   "cell_type": "markdown",
   "metadata": {
    "collapsed": true
   },
   "source": [
    "가짜 이미지 몇개를 출력해 보죠:"
   ]
  },
  {
   "cell_type": "code",
   "execution_count": 7,
   "metadata": {},
   "outputs": [],
   "source": [
    "import matplotlib.pyplot as plt"
   ]
  },
  {
   "cell_type": "code",
   "execution_count": 8,
   "metadata": {},
   "outputs": [
    {
     "data": {
      "image/png": "[encoded data removed]",
      "text/plain": [
       "<Figure size 432x288 with 1 Axes>"
      ]
     },
     "metadata": {
      "needs_background": "light"
     },
     "output_type": "display_data"
    },
    {
     "data": {
      "image/png": "[encoded data removed]",
      "text/plain": [
       "<Figure size 432x288 with 1 Axes>"
      ]
     },
     "metadata": {
      "needs_background": "light"
     },
     "output_type": "display_data"
    },
    {
     "data": {
      "image/png": "[encoded data removed]",
      "text/plain": [
       "<Figure size 432x288 with 1 Axes>"
      ]
     },
     "metadata": {
      "needs_background": "light"
     },
     "output_type": "display_data"
    },
    {
     "data": {
      "image/png": "[encoded data removed]",
      "text/plain": [
       "<Figure size 432x288 with 1 Axes>"
      ]
     },
     "metadata": {
      "needs_background": "light"
     },
     "output_type": "display_data"
    },
    {
     "data": {
      "image/png": "[encoded data removed]",
      "text/plain": [
       "<Figure size 432x288 with 1 Axes>"
      ]
     },
     "metadata": {
      "needs_background": "light"
     },
     "output_type": "display_data"
    },
    {
     "data": {
      "image/png": "[encoded data removed]",
      "text/plain": [
       "<Figure size 432x288 with 1 Axes>"
      ]
     },
     "metadata": {
      "needs_background": "light"
     },
     "output_type": "display_data"
    },
    {
     "data": {
      "image/png": "[encoded data removed]",
      "text/plain": [
       "<Figure size 432x288 with 1 Axes>"
      ]
     },
     "metadata": {
      "needs_background": "light"
     },
     "output_type": "display_data"
    },
    {
     "data": {
      "image/png": "[encoded data removed]",
      "text/plain": [
       "<Figure size 432x288 with 1 Axes>"
      ]
     },
     "metadata": {
      "needs_background": "light"
     },
     "output_type": "display_data"
    },
    {
     "data": {
      "image/png": "[encoded data removed]",
      "text/plain": [
       "<Figure size 432x288 with 1 Axes>"
      ]
     },
     "metadata": {
      "needs_background": "light"
     },
     "output_type": "display_data"
    },
    {
     "data": {
      "image/png": "[encoded data removed]",
      "text/plain": [
       "<Figure size 432x288 with 1 Axes>"
      ]
     },
     "metadata": {
      "needs_background": "light"
     },
     "output_type": "display_data"
    }
   ],
   "source": [
    "# 잠재 공간에서 랜덤한 포인트를 샘플링합니다\n",
    "random_latent_vectors = np.random.normal(size=(10, latent_dim))\n",
    "\n",
    "# 가짜 이미지로 디코딩합니다\n",
    "generated_images = generator.predict(random_latent_vectors)\n",
    "\n",
    "for i in range(generated_images.shape[0]):\n",
    "    img = image.array_to_img(generated_images[i] * 255., scale=False)\n",
    "    plt.figure()\n",
    "    plt.imshow(img)\n",
    "    \n",
    "plt.show()"
   ]
  },
  {
   "cell_type": "markdown",
   "metadata": {},
   "source": [
    "픽셀 경계가 두드러진 개구리처럼 보이는 이미지를 얻었습니다."
   ]
  }
 ],
 "metadata": {
  "kernelspec": {
   "display_name": "Python 3",
   "language": "python",
   "name": "python3"
  },
  "language_info": {
   "codemirror_mode": {
    "name": "ipython",
    "version": 3
   },
   "file_extension": ".py",
   "mimetype": "text/x-python",
   "name": "python",
   "nbconvert_exporter": "python",
   "pygments_lexer": "ipython3",
   "version": "3.6.8"
  },
  "toc": {
   "base_numbering": 1,
   "nav_menu": {},
   "number_sections": false,
   "sideBar": true,
   "skip_h1_title": true,
   "title_cell": "Table of Contents",
   "title_sidebar": "Contents",
   "toc_cell": false,
   "toc_position": {},
   "toc_section_display": true,
   "toc_window_display": true
  },
  "varInspector": {
   "cols": {
    "lenName": 16,
    "lenType": 16,
    "lenVar": 40
   },
   "kernels_config": {
    "python": {
     "delete_cmd_postfix": "",
     "delete_cmd_prefix": "del ",
     "library": "var_list.py",
     "varRefreshCmd": "print(var_dic_list())"
    },
    "r": {
     "delete_cmd_postfix": ") ",
     "delete_cmd_prefix": "rm(",
     "library": "var_list.r",
     "varRefreshCmd": "cat(var_dic_list()) "
    }
   },
   "types_to_exclude": [
    "module",
    "function",
    "builtin_function_or_method",
    "instance",
    "_Feature"
   ],
   "window_display": false
  }
 },
 "nbformat": 4,
 "nbformat_minor": 2
}
